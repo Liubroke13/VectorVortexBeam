{
 "cells": [
  {
   "cell_type": "code",
   "execution_count": 1,
   "id": "29e60c72-04fe-46bf-8482-040be37b1353",
   "metadata": {},
   "outputs": [],
   "source": [
    "%matplotlib ipympl\n",
    "import matplotlib.pyplot as plt\n",
    "import numpy as np\n",
    "import scipy as sc\n",
    "from sympy import solve, linsolve, symbols, Matrix, Eq\n",
    "import ipywidgets as widgets"
   ]
  },
  {
   "cell_type": "code",
   "execution_count": 2,
   "id": "d4403eec-d792-4c3f-8bb1-df34b0b9fbab",
   "metadata": {},
   "outputs": [
    {
     "name": "stdout",
     "output_type": "stream",
     "text": [
      "A=\n",
      " [[ 3 -9]\n",
      " [ 2  4]]\n",
      "b= [-42   2]\n",
      "solution= [-5.  3.]\n"
     ]
    }
   ],
   "source": [
    "A = np.array([[3, -9], [2, 4]])\n",
    "b = np.array([-42, 2])\n",
    " \n",
    "ans1 = np.linalg.inv(A).dot(b)\n",
    " \n",
    "print('A=\\n',A)\n",
    "print('b=',b)\n",
    "print('solution=',ans1)"
   ]
  },
  {
   "cell_type": "code",
   "execution_count": 3,
   "id": "69228e0b-6127-411e-95f1-09bebcd38149",
   "metadata": {},
   "outputs": [],
   "source": [
    "def B_exciton_function(y_B_ex, y_B_De, y_B_r):\n",
    "    B = 1/(1+2*y_B_ex/(y_B_De+y_B_r))\n",
    "    return B\n",
    "\n",
    "def A_exciton_function(y_B_ex, y_B_De, y_B_r, y_A_ex, y_A_r):\n",
    "    A = 1/(1+2*(y_A_ex/y_A_r))*(-1)*B_exciton_function(y_B_ex, y_B_De, y_B_r)\n",
    "    return A"
   ]
  },
  {
   "cell_type": "code",
   "execution_count": 18,
   "id": "7a6d0b5f-e653-40ef-930a-d002760e39bb",
   "metadata": {},
   "outputs": [
    {
     "data": {
      "application/vnd.jupyter.widget-view+json": {
       "model_id": "64ad6fddef2842a5a2fb3e7c66bf60f7",
       "version_major": 2,
       "version_minor": 0
      },
      "text/plain": [
       "VBox(children=(Label(value='coefficient:'), VBox(children=(FloatSlider(value=10.0, description='y_B_ex_multipl…"
      ]
     },
     "metadata": {},
     "output_type": "display_data"
    },
    {
     "data": {
      "application/vnd.jupyter.widget-view+json": {
       "model_id": "39f0eace6e484635a48ea5eef0cc9795",
       "version_major": 2,
       "version_minor": 0
      },
      "text/plain": [
       "Output()"
      ]
     },
     "metadata": {},
     "output_type": "display_data"
    }
   ],
   "source": [
    "y_B_exmulti = widgets.FloatSlider(value=10, min=0., max=10, step=1/10001 ,layout=widgets.Layout(width='75%'), description='y_B_ex_multiplier')\n",
    "y_B_Demulti = widgets.FloatSlider(value=1, min=0., max=10, step=1/10001 ,layout=widgets.Layout(width='75%'), description='y_B_De_multiplier')\n",
    "# y_B_rmulti   = widgets.FloatSlider(value=10,  min=0., max=10,step=1/10001 ,layout=widgets.Layout(width='75%'), description='y_X_fmultiplier')\n",
    "y_A_exmulti   = widgets.FloatSlider(value=10,   min=0., max=10,step=1/10001 ,layout=widgets.Layout(width='75%'), description='y_A_exmultiplier')\n",
    "y_A_rmulti  = widgets.FloatSlider(value=1,min=0., max=1, step=1/10001 ,layout=widgets.Layout(width='75%'), description='y_A_rmultiplier')\n",
    "\n",
    "y_B_r = 1\n",
    "\n",
    "G_B_K = 1\n",
    "\n",
    "def need(y_B_exmulti, y_B_Demulti, y_A_exmulti, y_A_rmulti):\n",
    "    fig, ax = plt.subplots(figsize=(8.25, 5), dpi=120)\n",
    "    \n",
    "    y_B_ex = y_B_exmulti * y_B_r\n",
    "    # y_B_De = y_B_Demulti * y_B_r\n",
    "    y_A_ex = y_A_exmulti * y_B_r\n",
    "    y_A_r  = y_A_rmulti  * y_B_r\n",
    "    \n",
    "    globals()['ADoVP'] = []\n",
    "    globals()['BDoVP'] = []\n",
    "    for y_B_De in np.linspace(0.00001, 10, 30):\n",
    "        \n",
    "        A = np.array([[-(y_B_ex+y_B_De+y_B_r), y_B_ex, 0, 0], \n",
    "                      [y_B_ex, -(y_B_ex+y_B_De+y_B_r), 0, 0], \n",
    "                      [0, y_B_De, -(y_A_ex+y_A_r), y_A_ex], \n",
    "                      [y_B_De, 0, y_A_ex, -(y_A_ex+y_A_r)]])\n",
    "        # print('for 𝛾_{𝐵,𝐾𝐾′}^{𝐷𝑒𝑥𝑡𝑒𝑟}/𝛾_{𝐵,𝑟}^𝑋 =',y_B_De ,' the matrix A is\\n',A)\n",
    "        b = np.array([-G_B_K, 0, 0, 0])\n",
    "        # print('and the matrix b is\\n',b,'\\n----------------------------')\n",
    "    \n",
    "        ans1 = np.linalg.inv(A).dot(b)\n",
    "        # print(\"N^B_K:\",ans1[0],\"\\nN^B_K':\",ans1[1], \"\\nN^A_K:\",ans1[2],\"\\nN^A_K':\",ans1[3])\n",
    "        DoVP_of_B = (ans1[0]-ans1[1])/(ans1[0]+ans1[1]) # print(\"B exciton DoVP = \",BDoVP)\n",
    "        DoVP_of_A = (ans1[2]-ans1[3])/(ans1[2]+ans1[3]) # print(\"A exciton DoVP = \",ADoVP)\n",
    "        \n",
    "        globals()['BDoVP'] += [DoVP_of_B]\n",
    "        globals()['ADoVP'] += [DoVP_of_A]\n",
    "\n",
    "    y_B_De = np.linspace(0.00001, 10, 30)\n",
    "    ax.plot( y_B_De, globals()['BDoVP'], 'bX', markeredgecolor='k', markersize=7.5, zorder=3)\n",
    "    ax.plot( y_B_De, globals()['ADoVP'], 'rX', markeredgecolor='k', markersize=7.5, zorder=3)\n",
    "    \n",
    "    ax.plot( np.linspace(0, 10, 10000) , B_exciton_function(y_B_ex, np.linspace(0, 10, 10000), y_B_r), linestyle='solid', color='blue' ,linewidth=2.5, zorder=2)\n",
    "    ax.plot( np.linspace(0, 50, 10000) , A_exciton_function(y_B_ex, np.linspace(0, 50, 10000), y_B_r, y_A_ex, y_A_r), linestyle='dashed', color='red' ,linewidth=2.5, zorder=2)\n",
    "    \n",
    "    size = 25\n",
    "    # ax.set_title('analytic result', fontsize=size)\n",
    "    ax.grid()\n",
    "    # ax.set_ylabel(\"$𝜂^𝐵$\", fontsize=size-3, rotation=90)\n",
    "    # ax.set_ylabel(\"$𝜂^𝐴$\", fontsize=size-3, rotation=90)\n",
    "    # ax.set_yticks(np.arange(0, 1.01, 1./5))\n",
    "    # ax.set_yticks(np.arange(0, 1.01, 1./10), minor=True)\n",
    "    # ax.set_ylim(0, 1)\n",
    "    # ax.set_xticks(np.arange(0, 10.01, 1))\n",
    "    # ax.set_xlim(0, 10)\n",
    "    # ax.set_yticks(np.arange(-1, 0.01, 1./5))\n",
    "    # ax.set_yticks(np.arange(-1, 0.01, 1./10), minor=True)\n",
    "    # ax.set_ylim(-1, 0)\n",
    "    # ax.set_xticks(np.arange(0, 10.01, 1))\n",
    "    # ax.set_xlim(0, 10)\n",
    "    ax.set_ylabel(\"DoVP\", fontsize=size-3, rotation=90)\n",
    "    ax.set_yticks(np.arange(-1, 1.01, 2./5))\n",
    "    ax.set_yticks(np.arange(-1, 1.01, 2./10), minor=True)\n",
    "    ax.set_ylim(-1, 1)\n",
    "    ax.set_xticks(np.arange(0, 10.01, 1))\n",
    "    ax.set_xlim(0, 10)\n",
    "    ax.set_xlabel('$𝛾_{𝐵,𝐾𝐾′}^{𝐷𝑒𝑥𝑡𝑒𝑟}/𝛾_{𝐵,𝑟}^𝑋$', fontsize=size)\n",
    "    ax.tick_params(axis='both', which='major', labelsize=20)\n",
    "    # ax.legend(['numerical', 'analytic'], fontsize=16, loc='lower left')\n",
    "    ax.legend([\"numerical $𝜂^𝐵$\", \"numerical $𝜂^𝐴$\", \"$𝜂^𝐵$\", \"$𝜂^𝐴$\"], fontsize=12, loc='lower left')\n",
    "    plt.tight_layout(pad=3.1)\n",
    "    plt.show() \n",
    "\n",
    "\n",
    "out = widgets.interactive_output(need, {'y_B_exmulti':y_B_exmulti, 'y_B_Demulti':y_B_Demulti, 'y_A_exmulti':y_A_exmulti, 'y_A_rmulti':y_A_rmulti})\n",
    "ui = widgets.VBox([widgets.Label('coefficient:'), widgets.VBox([y_B_exmulti, y_B_Demulti, y_A_exmulti, y_A_rmulti]) ])\n",
    "display(ui , out )"
   ]
  },
  {
   "cell_type": "code",
   "execution_count": 19,
   "id": "52dea9d9-bd48-446d-b093-38719a0db67a",
   "metadata": {},
   "outputs": [
    {
     "data": {
      "application/vnd.jupyter.widget-view+json": {
       "model_id": "683fdf403326490995035572e06c7b29",
       "version_major": 2,
       "version_minor": 0
      },
      "text/plain": [
       "VBox(children=(Label(value='coefficient:'), VBox(children=(FloatSlider(value=10.0, description='y_B_ex_multipl…"
      ]
     },
     "metadata": {},
     "output_type": "display_data"
    },
    {
     "data": {
      "application/vnd.jupyter.widget-view+json": {
       "model_id": "af82860bb6c24ef48251318c203e5324",
       "version_major": 2,
       "version_minor": 0
      },
      "text/plain": [
       "Output()"
      ]
     },
     "metadata": {},
     "output_type": "display_data"
    }
   ],
   "source": [
    "y_B_exmulti = widgets.FloatSlider(value=10, min=0., max=10, step=1/10001 ,layout=widgets.Layout(width='75%'), description='y_B_ex_multiplier')\n",
    "y_B_Demulti = widgets.FloatSlider(value=7, min=0., max=10, step=1/10001 ,layout=widgets.Layout(width='75%'), description='y_B_De_multiplier')\n",
    "# y_B_rmulti   = widgets.FloatSlider(value=10,  min=0., max=10,step=1/10001 ,layout=widgets.Layout(width='75%'), description='y_X_fmultiplier')\n",
    "y_A_exmulti   = widgets.FloatSlider(value=10,   min=0., max=10,step=1/10001 ,layout=widgets.Layout(width='75%'), description='y_A_exmultiplier')\n",
    "y_A_rmulti  = widgets.FloatSlider(value=1,min=0., max=1, step=1/10001 ,layout=widgets.Layout(width='75%'), description='y_A_rmultiplier')\n",
    "\n",
    "y_B_r = 1\n",
    "\n",
    "G_B_K = 1\n",
    "\n",
    "def need(y_B_exmulti, y_B_Demulti, y_A_exmulti, y_A_rmulti):\n",
    "    fig, ax = plt.subplots(figsize=(6.3, 5), dpi=120)\n",
    "    # fig, ax = plt.subplots(figsize=(7.25, 5), dpi=120)\n",
    "    y_B_ex = y_B_exmulti * y_B_r\n",
    "    y_B_De = y_B_Demulti * y_B_r\n",
    "    y_A_ex = y_A_exmulti * y_B_r\n",
    "    # y_A_r  = y_A_rmulti  * y_B_r\n",
    "    \n",
    "    globals()['ADoVP'] = []\n",
    "    globals()['BDoVP'] = []\n",
    "    for y_A_r in np.linspace(0.1, 10, 30):\n",
    "        \n",
    "        A = np.array([[-(y_B_ex+y_B_De+y_B_r), y_B_ex, 0, 0], \n",
    "                      [y_B_ex, -(y_B_ex+y_B_De+y_B_r), 0, 0], \n",
    "                      [0, y_B_De, -(y_A_ex+y_A_r), y_A_ex], \n",
    "                      [y_B_De, 0, y_A_ex, -(y_A_ex+y_A_r)]])\n",
    "        # print('for 𝛾_{𝐴,𝑟}^𝑋/𝛾_{𝐵,𝑟}^𝑋 =', y_A_r,'\\nand 𝛾_{𝐵,𝐾𝐾′}^{𝐷𝑒𝑥𝑡𝑒𝑟}/𝛾_{𝐵,𝑟}^𝑋=', y_B_De,'\\nthe matrix A is\\n',A)\n",
    "        b = np.array([-1, 0, 0, 0])\n",
    "        # print('and the matrix b is\\n',b,'\\n----------------------------')\n",
    "    \n",
    "        ans1 = np.linalg.inv(A).dot(b)\n",
    "        # print(\"N^B_K:\",ans1[0],\"\\nN^B_K':\",ans1[1], \"\\nN^A_K:\",ans1[2],\"\\nN^A_K':\",ans1[3])\n",
    "        DoVP_of_B = (ans1[0]-ans1[1])/(ans1[0]+ans1[1]) # print(\"B exciton DoVP = \",BDoVP)\n",
    "        DoVP_of_A = (ans1[2]-ans1[3])/(ans1[2]+ans1[3]) # print(\"A exciton DoVP = \",ADoVP)\n",
    "        \n",
    "        globals()['BDoVP'] += [DoVP_of_B]\n",
    "        globals()['ADoVP'] += [DoVP_of_A]\n",
    "\n",
    "    y_A_r = np.linspace(0.1, 10, 30)\n",
    "    ax.plot( y_A_r, globals()['BDoVP'], 'bX', markeredgecolor='k', markersize=6, zorder=3)\n",
    "    ax.plot( y_A_r, globals()['ADoVP'], 'rX', markeredgecolor='k', markersize=6, zorder=3)\n",
    "    \n",
    "    ax.plot( np.linspace(0.1, 10, 10000) , B_exciton_function(y_B_ex, y_B_De , y_B_r)*(1+0*np.linspace(0.1, 10, 10000)), linestyle='solid', color='blue' ,linewidth=2.5, zorder=2)\n",
    "    ax.plot( np.linspace(0.1, 10, 10000) , A_exciton_function(y_B_ex, y_B_De, y_B_r, y_A_ex, np.linspace(0.1, 10, 10000)), linestyle='dashed', color='red' ,linewidth=2.5, zorder=2)\n",
    "    \n",
    "    # ax.set_title('$𝛾_{𝐵,𝐾𝐾′}^{𝐷𝑒𝑥𝑡𝑒𝑟}=5 𝛾_{𝐵,𝑟}^𝑋$', fontsize=30)\n",
    "    ax.grid()\n",
    "    # ax.set_ylabel(\"$𝜂^𝐵$\", fontsize=size-3, rotation=90)\n",
    "    # ax.set_ylabel(\"$𝜂^𝐴$\", fontsize=size-3, rotation=90)\n",
    "    # ax.set_yticks(np.arange(0, 1.01, 1./5))\n",
    "    # ax.set_yticks(np.arange(0, 1.01, 1./10), minor=True)\n",
    "    # ax.set_ylim(0, 1)\n",
    "    # ax.set_xticks(np.arange(0, 10.01, 1))\n",
    "    # ax.set_xlim(0, 10)\n",
    "    # ax.set_yticks(np.arange(-1, 0.01, 1./5))\n",
    "    # ax.set_yticks(np.arange(-1, 0.01, 1./10), minor=True)\n",
    "    # ax.set_ylim(-1, 0)\n",
    "    # ax.set_xticks(np.arange(0, 10.01, 1))\n",
    "    # ax.set_xlim(0, 10)\n",
    "    # ax.set_ylabel(\"DoVP\", fontsize=22, rotation=90)\n",
    "    # ax.set_yticks(np.arange(-1, 1.01, 2./5))\n",
    "    ax.set_yticks(np.arange(-1, 1.01, 2./5), [' ', ' ', ' ', ' ', ' ', ' '])\n",
    "    ax.set_yticks(np.arange(-1, 1.01, 2./10), minor=True)\n",
    "    ax.set_ylim(-1, 1)\n",
    "    ax.set_xticks(np.append([0.1], np.linspace(1, 10, 10)), [ '0.1',  '1' ,  '2' ,  '3' ,  '4' ,  '5' ,  '6' ,  '7' ,  '8' ,  '9' , '10' ])\n",
    "    ax.set_xlim(0.1, 10)\n",
    "    ax.set_xlabel('$𝛾_{𝐴,𝑟}^𝑋/𝛾_{𝐵,𝑟}^𝑋$', fontsize=25)\n",
    "    ax.tick_params(axis='both', which='major', labelsize=20)\n",
    "    # ax.legend(['numerical', 'analytic'], fontsize=16, loc='lower left')\n",
    "    ax.legend([\"numerical $𝜂^𝐵$\", \"numerical $𝜂^𝐴$\", \"$𝜂^𝐵$\", \"$𝜂^𝐴$\"], fontsize=12, loc='lower right')\n",
    "    plt.tight_layout(pad=3.1)\n",
    "    plt.show() \n",
    "\n",
    "\n",
    "out = widgets.interactive_output(need, {'y_B_exmulti':y_B_exmulti, 'y_B_Demulti':y_B_Demulti, 'y_A_exmulti':y_A_exmulti, 'y_A_rmulti':y_A_rmulti})\n",
    "ui = widgets.VBox([widgets.Label('coefficient:'), widgets.VBox([y_B_exmulti, y_B_Demulti, y_A_exmulti, y_A_rmulti]) ])\n",
    "display(ui , out )"
   ]
  },
  {
   "cell_type": "code",
   "execution_count": 6,
   "id": "7102d26f-90db-4324-9087-4f5b494999f2",
   "metadata": {},
   "outputs": [
    {
     "data": {
      "text/plain": [
       "array([ 0.1,  1. ,  2. ,  3. ,  4. ,  5. ,  6. ,  7. ,  8. ,  9. , 10. ])"
      ]
     },
     "execution_count": 6,
     "metadata": {},
     "output_type": "execute_result"
    }
   ],
   "source": [
    "np.append([0.1], np.linspace(1, 10, 10))"
   ]
  },
  {
   "cell_type": "markdown",
   "id": "b9ee8d76-4bef-4e4e-928c-d77da870167f",
   "metadata": {},
   "source": [
    "# Model-I "
   ]
  },
  {
   "cell_type": "code",
   "execution_count": 7,
   "id": "7b030583-0377-4d3a-8387-13db609a53e5",
   "metadata": {},
   "outputs": [],
   "source": [
    "def model_one_WP_function(l, y_l0_KK, y_X_r):\n",
    "    y_l0_KK = y_l0_KK*(np.abs(l)+1)\n",
    "    WP_TH = 1/(1+2*y_l0_KK/(y_X_r))\n",
    "    return WP_TH\n",
    "\n",
    "def model_two_WP_function(l, y_l0_KK, y_X_r, y_X_f):\n",
    "    y_l0_KK = y_l0_KK*(np.abs(l)+1)\n",
    "    alpha = 1/(1+2*y_l0_KK/(y_X_r+y_X_f))\n",
    "    WP = alpha * 1\n",
    "    return WP\n",
    "\n",
    "def model_two_LOW_fun(l, y_l0_KK, y_X0_KK, y_X_r, y_X_f):\n",
    "    LOW = 1/(1+2*y_X0_KK/y_X_r) * model_two_WP_function(l, y_l0_KK, y_X_r, y_X_f)\n",
    "    return LOW\n",
    "\n",
    "def model_two_Both_fun(l, y_l0_KK, y_X0_KK, y_X_r, y_X_f):\n",
    "    Both = (y_X_f/(y_X_r+y_X_f))*model_two_LOW_fun(l, y_l0_KK, y_X0_KK, y_X_r, y_X_f) + (y_X_r/(y_X_r+y_X_f))*model_two_WP_function(l, y_l0_KK, y_X_r, y_X_f) \n",
    "    return Both\n",
    "\n",
    "def model_three_WP_function(l, y_l0_KK, y_X_r, y_X_f, y_T_f):\n",
    "    y_l0_KK = y_l0_KK*(np.abs(l)+1)\n",
    "    WP = 1/(1+2*y_l0_KK/(y_X_r+y_X_f+y_T_f))\n",
    "    return WP\n",
    "\n",
    "def model_three_LOW_fun(l, y_l0_KK, y_X0_KK, y_X_r, y_X_f, y_T_f):\n",
    "    LOW = 1/(1+2*y_X0_KK/(y_X_r+y_T_f)) * model_three_WP_function(l, y_l0_KK, y_X_r, y_X_f, y_T_f)\n",
    "    return LOW\n",
    "\n",
    "def model_three_Both_exciton_fun(l, y_l0_KK, y_X0_KK, y_X_r, y_X_f, y_T_f):\n",
    "    Both = ((y_X_f/y_X_r)/(1+y_X_f/y_X_r+y_T_f/y_X_r))*model_three_LOW_fun(l, y_l0_KK, y_X0_KK, y_X_r, y_X_f, y_T_f) + ((1+y_T_f/y_X_r)/(1+y_X_f/y_X_r+y_T_f/y_X_r))*model_three_WP_function(l, y_l0_KK, y_X_r, y_X_f, y_T_f) \n",
    "    return Both\n",
    "\n",
    "def model_three_Both_exciton_fun_formation_use(l, y_l0_KK, y_X0_KK, y_X_r, y_X_f, y_T_f):\n",
    "    Both = ((y_X_f/y_T_f)/(1+y_X_f/y_T_f+y_X_r/y_T_f))*model_three_LOW_fun(l, y_l0_KK, y_X0_KK, y_X_r, y_X_f, y_T_f) + ((1+y_X_r/y_T_f)/(1+y_X_f/y_T_f+y_X_r/y_T_f))*model_three_WP_function(l, y_l0_KK, y_X_r, y_X_f, y_T_f) \n",
    "    return Both\n",
    "\n",
    "def model_three_trion_fun(l, y_l0_KK, y_X0_KK, y_X_r, y_X_f, y_T_f, y_T_KK, y_T_r):\n",
    "    onlyTR =  1/(1+2*y_T_KK/y_T_r) * model_three_Both_exciton_fun_formation_use(l, y_l0_KK, y_X0_KK, y_X_r, y_X_f, y_T_f)\n",
    "    # onlyTR =  model_three_Both_exciton_fun(l, y_l0_KK, y_X0_KK, y_X_r, y_X_f, y_T_f)\n",
    "    return onlyTR"
   ]
  },
  {
   "cell_type": "code",
   "execution_count": 8,
   "id": "e3f29347-36f2-40fc-8316-29b41d3f617b",
   "metadata": {},
   "outputs": [
    {
     "data": {
      "application/vnd.jupyter.widget-view+json": {
       "model_id": "4684d4e684dd44f6a616ec1182caedc5",
       "version_major": 2,
       "version_minor": 0
      },
      "image/png": "[encoded data removed]",
      "text/html": [
       "\n",
       "            <div style=\"display: inline-block;\">\n",
       "                <div class=\"jupyter-widgets widget-label\" style=\"text-align: center;\">\n",
       "                    Figure\n",
       "                </div>\n",
       "                <img src='data:image/png;base64,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' width=1050.0/>\n",
       "            </div>\n",
       "        "
      ],
      "text/plain": [
       "Canvas(toolbar=Toolbar(toolitems=[('Home', 'Reset original view', 'home', 'home'), ('Back', 'Back to previous …"
      ]
     },
     "metadata": {},
     "output_type": "display_data"
    },
    {
     "data": {
      "application/vnd.jupyter.widget-view+json": {
       "model_id": "2f45d30627eb40c9afa71074d5c07952",
       "version_major": 2,
       "version_minor": 0
      },
      "text/plain": [
       "VBox(children=(Label(value='coefficient:'), VBox(children=(FloatSlider(value=0.1, description='y_l0_KK_multipl…"
      ]
     },
     "metadata": {},
     "output_type": "display_data"
    },
    {
     "data": {
      "application/vnd.jupyter.widget-view+json": {
       "model_id": "52dd0d48eedf46119d408def9af5aa01",
       "version_major": 2,
       "version_minor": 0
      },
      "text/plain": [
       "Output()"
      ]
     },
     "metadata": {},
     "output_type": "display_data"
    }
   ],
   "source": [
    "#創建畫布\n",
    "fig, ax = plt.subplots(figsize=(8.75, 5), dpi=120)\n",
    "#參數設置(滑桿)\n",
    "y_l0_KKmulti = widgets.FloatSlider(value=0.1, min=0., max=1, step=1/10001 ,layout=widgets.Layout(width='75%'), description='y_l0_KK_multiplier')\n",
    "y_X_r = 1\n",
    "    \n",
    "def need(y_l0_KKmulti):\n",
    "    #清空畫面\n",
    "    ax.cla()\n",
    "    #參數導入\n",
    "    y_l0_KK = y_l0_KKmulti * y_X_r\n",
    "    # print(\"y_l0_KK = \"+str(format(y_l0_KK,'.2f')))\n",
    "\n",
    "    \n",
    "    #數值解\n",
    "    globals()['DoVP'] = []\n",
    "    for l in np.linspace(0, 6, 7):\n",
    "        A = np.array([[-(y_l0_KK*(np.abs(l)+1)+y_X_r), y_l0_KK*(np.abs(l)+1)],\n",
    "                      [y_l0_KK*(np.abs(l)+1), -(y_l0_KK*(np.abs(l)+1)+y_X_r)]])\n",
    "        print('for l = ',l, '\\nthe matrix A is\\n',A)\n",
    "        b = np.array([-1, 0])\n",
    "        print('and the matrix b is\\n',b,'\\n----------------------------')\n",
    "        ans = np.linalg.inv(A).dot(b)\n",
    "        DoVP_solution = (ans[0]-ans[1])/(ans[0]+ans[1])\n",
    "        globals()['DoVP'] += [DoVP_solution]\n",
    "    #繪製數值解\n",
    "    ax.plot( np.linspace(0, 6, 7), globals()['DoVP'], 'kx', markersize=10, zorder=3)\n",
    "    \n",
    "    \n",
    "    #解析解\n",
    "    globals()['WP'] = []\n",
    "    for l in range(0,7,1):\n",
    "        globals()['WP'] += [model_one_WP_function(l, y_l0_KK, y_X_r)]\n",
    "    #繪製解析解\n",
    "    ax.plot( np.linspace(0, 6, 7), globals()['WP'], marker='v', linestyle='solid', markersize=8, color='red' ,linewidth=1, zorder=2)\n",
    "    #標上資料點\n",
    "    for j, v in enumerate(globals()['WP']):\n",
    "        ax.text(j, v-0.09, \"%2.2f\" %v, ha=\"center\", fontsize=20)\n",
    "\n",
    "\n",
    "    #圖片設置\n",
    "    ax.grid()\n",
    "    # ax.set_title('Model I', fontsize=20)\n",
    "    ax.set_ylabel(\"Exciton DoVP\", fontsize=20, rotation=90)\n",
    "    ax.set_yticks(np.arange(0, 1.01, 1./10))\n",
    "    ax.set_yticks(np.arange(0, 1.01, 1./100), minor=True)\n",
    "    ax.set_ylim(0, 1)\n",
    "    ax.set_xlim(-0.5, 6.5)\n",
    "    ax.set_xlabel('$\\ell$', fontsize=20)\n",
    "    # ax.set_xticks(np.linspace(0, 6, 7), [' ', ' ', ' ', ' ', ' ', ' ', ' '])\n",
    "    ax.set_xticks(np.linspace(0, 6, 7), ['0', '1', '2', '3', '4', '5', '6'])\n",
    "    ax.tick_params(axis='both', which='major', labelsize=20)\n",
    "    ax.legend(['numerical η$^{X,\\ell}_{\\sf{Model-I}}$ ','η$^{X,\\ell}_{\\sf{Model-I}}$'], fontsize=16, loc='lower left')\n",
    "\n",
    "\n",
    "        \n",
    "plt.tight_layout(pad=5)\n",
    "# plt.subplots_adjust(left=0.1, right=0.9, \n",
    "#                     top=0.975, bottom=0.05, \n",
    "#                     wspace=0.4, hspace=0.028)\n",
    "plt.show()\n",
    "\n",
    "out = widgets.interactive_output(need, {'y_l0_KKmulti':y_l0_KKmulti})\n",
    "ui = widgets.VBox([widgets.Label('coefficient:'), widgets.VBox([y_l0_KKmulti]) ])\n",
    "display(ui , out )"
   ]
  },
  {
   "cell_type": "markdown",
   "id": "79883155-acda-42c3-b5b4-911c7409ede7",
   "metadata": {},
   "source": [
    "# Model-II"
   ]
  },
  {
   "cell_type": "code",
   "execution_count": 13,
   "id": "1c64f92e-21c8-4917-adcc-0e7716f0de9d",
   "metadata": {},
   "outputs": [
    {
     "data": {
      "application/vnd.jupyter.widget-view+json": {
       "model_id": "d0edec003a9b4c6983db02adb6a980f1",
       "version_major": 2,
       "version_minor": 0
      },
      "image/png": "[encoded data removed]",
      "text/html": [
       "\n",
       "            <div style=\"display: inline-block;\">\n",
       "                <div class=\"jupyter-widgets widget-label\" style=\"text-align: center;\">\n",
       "                    Figure\n",
       "                </div>\n",
       "                <img src='data:image/png;base64,iVBORw0KGgoAAAANSUhEUgAAA94AAAJYCAYAAACU8z5aAAAAOXRFWHRTb2Z0d2FyZQBNYXRwbG90bGliIHZlcnNpb24zLjkuMiwgaHR0cHM6Ly9tYXRwbG90bGliLm9yZy8hTgPZAAAACXBIWXMAABJ0AAASdAHeZh94AAAosklEQVR4nO3de4zV9Zn48We4CMrEVbBDM8XAkgmKMyDrxp0l2SxlFRWTRqChgJJdAY1CFbCNtF0sSqrtmHVbNYXGu5NShtSFQbsLZAHdtlkt3tYNg5cVrNRAXHBmWRgv2Jk5vz/6c+osF5E5zwwDr1fCH/2c85nzfJNPsG/O95wpKRQKhQAAAABS9OruAQAAAOBkJrwBAAAgkfAGAACARMIbAAAAEglvAAAASCS8AQAAIJHwBgAAgETCGwAAABIJbwAAAEgkvAEAACCR8AYAAIBEwhsAAAASCW8AAABIJLwBAAAgkfAGAACARMIbAAAAEglvAAAASCS8AQAAIJHwBgAAgETCGwAAABIJbwAAAEgkvAEAACCR8AYAAIBEwhsAAAASCW8AAABIJLwBAAAgkfAGAACARMIbAAAAEglvAAAASCS8AQAAIJHwBgAAgETCGwAAABIJbwAAAEgkvAEAACCR8AYAAIBEwhsAAAASCW8AAABIJLwBAAAgkfAGAACARMIbAAAAEglvAAAASCS8AQAAIJHwBgAAgETCGwAAABIJbwAAAEgkvAEAACCR8AYAAIBEwhsAAAASCW8AAABIJLwBAAAgkfAGAACARMIbAAAAEglvAAAASCS8AQAAIJHwBgAAgETCGwAAABIJbwAAAEgkvAEAACCR8AYAAIBEwhsAAAASCW8AAABIJLwBAAAgkfAGAACARMIbAAAAEglvAAAASCS8AQAAIJHwBgAAgETCGwAAABIJbwAAAEgkvAEAACCR8AYAAIBEwhsAAAASCW8AAABIJLwBAAAgkfAGAACARMIbAAAAEglvAAAASCS8AQAAIJHwBgAAgETCGwAAABIJbwAAAEgkvAEAACCR8E5w4MCBWLRoUVx22WXxhS98IUpKSuKOO+445v179uyJa6+9Ns4555w444wzYuzYsbF58+a8gQEAAEgjvBM0NjbGgw8+GAcPHoxJkyZ9rr0HDx6MSy65JDZv3hz33XdfPPnkkzF48OC44oor4pe//GXOwAAAAKTp090DnIyGDh0a//M//xMlJSXx3nvvxcMPP3zMex955JFoaGiIZ599NsaOHRsREePHj48LL7wwFi1aFFu2bMkaGwAAgATe8U5QUlISJSUlx7W3vr4+zjvvvPbojojo06dPzJw5M55//vnYtWtXscYEAACgCwjvE0xDQ0OMHj36kPVP1rZt29bVIwEAANAJbjU/wTQ2NsbAgQMPWf9krbGx8aj79+zZE3v37u2wtn///viv//qvGDVqVPTr1694wwIAACe0gwcPxjvvvBPjxo2Ls846q7vHOWUJ7xPQ0W5T/6xb2JcvXx5Lly4t9kgAAEAPtnbt2rjqqqu6e4xTlvA+wQwaNOiw72o3NTVFRBz23fBPmzdvXkydOrXD2quvvhpf+9rXYu3atVFRUVG8YQEAgBPa9u3bY9KkSXHuued29yinNOF9ghk1alRs3br1kPVP1qqqqo66v6ysLMrKyg77WEVFRVRWVnZ+SAAAoEfxkdPu5cvVTjCTJ0+O119/vcOvDWtpaYkVK1ZEdXV1lJeXd+N0AAAAfF7e8U6yfv36eP/99+PAgQMR8Yfbvf/pn/4pIiKuvPLKOOOMM2LOnDlRW1sbO3bsiKFDh0ZExOzZs2PZsmUxderUqKmpibKysli+fHm88cYbsWnTpm67HgAAAI6P8E4yd+7c2LlzZ/v/fuKJJ+KJJ56IiIjf/va3MWzYsGhtbY3W1tYoFArtz+vXr19s3rw5Fi1aFDfffHN88MEHMWbMmFi/fn2MGzeuy68DAACAzhHeSd5+++3PfM7jjz8ejz/++CHrgwcPjtra2uIPBQAAQJfzGW8AAABIJLwBAAAgkfAGAACARMIbAAAAEglvAAAASCS8AQAAIJHwBgAAgETCGwAAABIJbwAAAEgkvAEAACCR8AYAAIBEwhsAAAASCW8AAABIJLwBAAAgkfAGAACARMIbAAAAEglvAAAASCS8AQAAIJHwBgAAgETCGwAAABIJbwAAAEgkvAEAACCR8AYAAIBEwhsAAAASCW8AAABIJLwBAAAgkfAGAACARMIbAAAAEglvAAAASCS8AQAAIJHwBgAAgETCGwAAABIJbwAAAEgkvAEAACCR8AYAAIBEwhsAAAASCW8AAABIJLwBAAAgkfAGAACARMIbAAAAEglvAAAASCS8AQAAIJHwBgAAgETCGwAAABIJbwAAAEgkvAEAACCR8AYAAIBEwhsAAAASCW8AAABIJLwBAAAgkfAGAACARMIbAAAAEglvAAAASCS8AQAAIJHwBgAAgETCGwAAABIJbwAAAEgkvAEAACCR8AYAAIBEwhsAAAASCW8AAABIJLwBAAAgkfAGAACARMIbAAAAEglvAAAASCS8AQAAIJHwBgAAgETCO0Fzc3MsXLgwysvLo3///jFmzJhYtWrVMe195plnYsKECVFWVhalpaUxevTouP/++6O1tTV5agAAADL06e4BTkZTpkyJF154IWpqamLEiBGxcuXKmDFjRrS1tcXVV199xH2bNm2Kyy+/PP76r/86HnrooRgwYEA89dRTsWDBgtixY0fcd999XXgVAAAAFIPwLrJ169bFxo0b22M7ImL8+PGxc+fOuPXWW2PatGnRu3fvw+59/PHHo2/fvvHP//zPMWDAgIiIuPTSS+ONN96Ixx9/XHgDAAD0QG41L7L6+vooLS2NqVOndlifNWtW7N69O7Zs2XLEvX379o3TTjstTj/99A7rZ511VvTv3z9lXgAAAHIJ7yJraGiIkSNHRp8+HW8mGD16dPvjR3LjjTfGxx9/HPPnz4/du3fHvn374qc//WnU19fHokWLUucGAAAgh1vNi6yxsTGGDx9+yPrAgQPbHz+S6urqePrpp2Pq1KmxbNmyiIjo3bt3/OAHP4hvfvObx/T6e/bsib1793ZY2759+7GODwAAQJEJ7wQlJSXH9dhLL70UkydPjurq6njggQdiwIAB8fTTT8dtt90WH330UXz3u9/9zNdevnx5LF269LjmBgAAoPiEd5ENGjTosO9qNzU1RcQf3/k+nK9//esxePDgqK+vb/8CtvHjx0evXr3ijjvuiGuuueaw76Z/2rx58w75fPn27dtj0qRJn/NKAAAAKAbhXWSjRo2Kurq6aGlp6fA5761bt0ZERFVV1RH3vvLKKzFjxoxDvvX84osvjra2tnjttdc+M7zLysqirKysE1cAAABAMflytSKbPHlyNDc3x+rVqzus19bWRnl5eVRXVx9xb3l5ebz44ovR2traYf25556LiIghQ4YUf2AAAABSece7yCZOnBgTJkyIuXPnxv79+6OioiLq6upiw4YNsWLFivZ3s+fMmRO1tbWxY8eOGDp0aERE3HLLLTF//vz4yle+EjfccEOcccYZsXnz5vjHf/zHuPTSS+PCCy/szksDAADgOAjvBGvWrInFixfHkiVLoqmpKc4///yoq6uL6dOntz+ntbU1Wltbo1AotK/dfPPN8aUvfSl+9KMfxXXXXRcffvhhDBs2LG6//fa45ZZbuuNSAAAA6KSSwqfLj5PStm3boqqqKhoaGqKysrK7xwEAALqIFjgx+Iw3AAAAJBLeAAAAkEh4AwAAQCLhDQAAAImENwAAACQS3gAAAJBIeAMAAEAi4Q0AAACJhDcAAAAkEt4AAACQSHgDAABAIuENAAAAiYQ3AAAAJBLeAAAAkEh4AwAAQCLhDQAAAImENwAAACQS3gAAAJBIeAMAAEAi4Q0AAACJhDcAAAAkEt4AAACQSHgDAABAIuENAAAAiYQ3AAAAJBLeAAAAkEh4AwAAQCLhDQAAAImENwAAACQS3gAAAJBIeAMAAEAi4Q0AAACJhDcAAAAkEt4AAACQSHgDAABAIuENAAAAiYQ3AAAAJBLeAAAAkEh4AwAAQCLhDQAAAImENwAAACQS3gAAAJBIeAMAAEAi4Q0AAACJhDcAAAAkEt4AAACQSHgDAABAIuENAAAAiYQ3AAAAJBLeAAAAkEh4AwAAQCLhDQAAAImENwAAACQS3gAAAJBIeAMAAEAi4Q0AAACJhDcAAAAkEt4AAACQSHgDAABAIuENAAAAiYQ3AAAAJBLeAAAAkEh4AwAAQCLhDQAAAImENwAAACQS3gAAAJBIeAMAAEAi4Q0AAACJhHeC5ubmWLhwYZSXl0f//v1jzJgxsWrVqmPe/+STT8a4cePizDPPjAEDBkRlZWU8+OCDiRMDAACQpU93D3AymjJlSrzwwgtRU1MTI0aMiJUrV8aMGTOira0trr766qPurampicWLF8eNN94Y3/nOd6Jv377x+uuvx8cff9xF0wMAAFBMwrvI1q1bFxs3bmyP7YiI8ePHx86dO+PWW2+NadOmRe/evQ+796WXXorFixfHD37wg1i0aFH7+iWXXNIlswMAAFB8bjUvsvr6+igtLY2pU6d2WJ81a1bs3r07tmzZcsS9P/7xj6Nfv35x8803Z48JAABAFxHeRdbQ0BAjR46MPn063kwwevTo9seP5Fe/+lWMHDkyVq9eHeedd1707t07hgwZEt/+9rfdag4AANBDudW8yBobG2P48OGHrA8cOLD98SPZtWtX7N27N+bPnx/f+9734oILLojNmzdHTU1NvPPOO/Gzn/3sM19/z549sXfv3g5r27dv/5xXAQAAQLEI7wQlJSXH9VhbW1scOHAg6urqYvr06RHxh8+Hv//++3HvvffG0qVLo6Ki4qivvXz58li6dOnxDQ4AAEDRudW8yAYNGnTYd7Wbmpoi4o/vfB9pb0TE5Zdf3mF94sSJERHx8ssvf+brz5s3LxoaGjr8Wbt27bGODwAAQJF5x7vIRo0aFXV1ddHS0tLhc95bt26NiIiqqqoj7h09enS8++67h6wXCoWIiOjV67P/naSsrCzKyso+79gAAAAk8Y53kU2ePDmam5tj9erVHdZra2ujvLw8qqurj7j3q1/9akRErF+/vsP6unXrolevXnHxxRcXf2AAAABSece7yCZOnBgTJkyIuXPnxv79+6OioiLq6upiw4YNsWLFivbf4T1nzpyora2NHTt2xNChQyPiD79y7IEHHoh58+bFe++9FxdccEFs2rQpli1bFvPmzWt/HgAAAD2H8E6wZs2aWLx4cSxZsiSampri/PPP7/CFaRERra2t0dra2n4beURE3759Y+PGjfH3f//38f3vfz+ampriT//0T6Ompia+8Y1vdMelAAAA0EklhU+XHyelbdu2RVVVVTQ0NERlZWV3jwMAAHQRLXBi8BlvAAAASCS8AQAAIJHwBgAAgETCGwAAABIJbwAAAEgkvAEAACCR8AYAAIBEwhsAAAASCW8AAABIJLwBAAAgkfAGAACARMIbAAAAEglvAAAASCS8AQAAIJHwBgAAgETCGwAAABIJbwAAAEgkvAEAACCR8AYAAIBEwhsAAAASCW8AAABIJLwBAAAgkfAGAACARMIbAAAAEglvAAAASCS8AQAAIJHwBgAAgETCGwAAABIJbwAAAEgkvAEAACCR8AYAAIBEwhsAAAASCW8AAABIJLwBAAAgkfAGAACARMIbAAAAEglvAAAASCS8AQAAIJHwBgAAgETCGwAAABIJbwAAAEgkvAEAACCR8AYAAIBEwhsAAAASCW8AAABIJLwBAAAgkfAGAACARMIbAAAAEglvAAAASCS8AQAAIJHwBgAAgETCGwAAABIJbwAAAEgkvAEAACCR8AYAAIBEwhsAAAASCW8AAABIJLwBAAAgkfAGAACARMIbAAAAEglvAAAASCS8AQAAIJHwBgAAgETCGwAAABIJbwAAAEgkvAEAACCR8AYAAIBEwjtBc3NzLFy4MMrLy6N///4xZsyYWLVq1ef+ObfddluUlJREVVVVwpQAAAB0hT7dPcDJaMqUKfHCCy9ETU1NjBgxIlauXBkzZsyItra2uPrqq4/pZ7zyyitxzz33xODBg5OnBQAAIJPwLrJ169bFxo0b22M7ImL8+PGxc+fOuPXWW2PatGnRu3fvo/6MlpaWmDVrVtxwww3xn//5n/Hee+91xegAAAAkcKt5kdXX10dpaWlMnTq1w/qsWbNi9+7dsWXLls/8GTU1NdHU1BR33XVX1pgAAAB0EeFdZA0NDTFy5Mjo06fjzQSjR49uf/xoXn311bjzzjvjJz/5SZSWlqbNCQAAQNdwq3mRNTY2xvDhww9ZHzhwYPvjR9LW1hazZ8+OKVOmxJVXXnlcr79nz57Yu3dvh7Xt27cf188CAACg84R3gpKSkuN67Ic//GG8+eab8dRTTx33ay9fvjyWLl163PsBAAAoLuFdZIMGDTrsu9pNTU0R8cd3vv+v3/3ud7FkyZKoqamJ0047Lfbt2xcRf/iitba2tti3b1/069cvTj/99KO+/rx58w75fPn27dtj0qRJn/9iAAAA6DThXWSjRo2Kurq6aGlp6fA5761bt0ZEHPF3cr/11lvx4YcfxoIFC2LBggWHPH722WfHggUL4t577z3q65eVlUVZWdnxXwAAAABFJbyLbPLkyfHQQw/F6tWrY9q0ae3rtbW1UV5eHtXV1YfdN2bMmHjmmWcOWV+4cGH87//+bzz22GMxZMiQtLkBAADIIbyLbOLEiTFhwoSYO3du7N+/PyoqKqKuri42bNgQK1asaP8d3nPmzIna2trYsWNHDB06NM4666z48pe/fMjPO+uss6KlpeWwjwEAAHDiE94J1qxZE4sXL44lS5ZEU1NTnH/++VFXVxfTp09vf05ra2u0trZGoVDoxkkBAADIVlJQfie9bdu2RVVVVTQ0NERlZWV3jwMAAHQRLXBi6NXdAwAAAMDJTHgDAABAIuENAAAAiYQ3AAAAJBLeAAAAkEh4AwAAQCLhDQAAAImENwAAACQS3gAAAJBIeAMAAEAi4Q0AAACJhDcAAAAkEt4AAACQSHgDAABAIuENAAAAiYQ3AAAAJBLeAAAAkEh4AwAAQCLhDQAAAImENwAAACQS3gAAAJBIeAMAAEAi4Q0AAACJhDcAAAAkEt4AAACQSHgDAABAIuENAAAAiYQ3AAAAJBLeAAAAkEh4AwAAQCLhDQAAAImENwAAACQS3gAAAJBIeAMAAEAi4Q0AAACJhDcAAAAkEt4AAACQSHgDAABAIuENAAAAiYQ3AAAAJBLeAAAAkEh4AwAAQCLhDQAAAImENwAAACQS3gAAAJBIeAMAAEAi4Q0AAACJhDcAAAAkEt4AAACQSHgDAABAIuENAAAAiYQ3AAAAJBLeAAAAkEh4AwAAQCLhDQAAAImENwAAACQS3gAAAJBIeAMAAEAi4Q0AAACJhDcAAAAkEt4AAACQSHgDAABAIuENAAAAiYQ3AAAAJBLeAAAAkEh4AwAAQCLhDQAAAImEd4Lm5uZYuHBhlJeXR//+/WPMmDGxatWqz9y3Zs2amDFjRlRUVMTpp58ew4YNi2uuuSbefPPNLpgaAACADH26e4CT0ZQpU+KFF16ImpqaGDFiRKxcuTJmzJgRbW1tcfXVVx9x39133x1f/OIXY/HixTF8+PB455134vvf/35cdNFF8Zvf/CYqKyu78CoAAAAoBuFdZOvWrYuNGze2x3ZExPjx42Pnzp1x6623xrRp06J3796H3fuLX/wiysrKOqz9zd/8TQwbNix+9KMfxcMPP5w+PwAAAMXlVvMiq6+vj9LS0pg6dWqH9VmzZsXu3btjy5YtR9z7f6M7IqK8vDyGDBkS77zzTtFnBQAAIJ/wLrKGhoYYOXJk9OnT8WaC0aNHtz/+ebz11luxc+dOt5kDAAD0UG41L7LGxsYYPnz4IesDBw5sf/xYtbS0xJw5c6K0tDRuueWWY9qzZ8+e2Lt3b4e17du3H/NrAgAAUFzCO0FJSclxPfZphUIh5syZE7/+9a9j9erVce655x7TvuXLl8fSpUuP6bkAAADkE95FNmjQoMO+q93U1BQRf3zn+2gKhUJcd911sWLFiqitrY2rrrrqmF9/3rx5h3y+fPv27TFp0qRj/hkAAAAUj/AuslGjRkVdXV20tLR0+Jz31q1bIyKiqqrqqPs/ie7HHnssHnnkkZg5c+bnev2ysrLDfkkbAAAA3cOXqxXZ5MmTo7m5OVavXt1hvba2NsrLy6O6uvqIewuFQlx//fXx2GOPxQMPPBCzZs3KHhcAAIBk3vEusokTJ8aECRNi7ty5sX///qioqIi6urrYsGFDrFixov13eM+ZMydqa2tjx44dMXTo0IiImD9/fjzyyCMxe/bsGDVqVPzmN79p/7n9+vWLP/uzP+uWawIAAOD4Ce8Ea9asicWLF8eSJUuiqakpzj///Kirq4vp06e3P6e1tTVaW1ujUCi0r/3iF7+IiIhHH300Hn300Q4/c+jQofH22293yfwAAAAUT0nh0+XHSWnbtm1RVVUVDQ0Nfh84AACcQrTAicFnvAEAACCR8AYAAIBEwhsAAAASCW8AAABIJLwBAAAgkfAGAACARMIbAAAAEglvAAAASCS8AQAAIJHwBgAAgETCGwAAABIJbwAAAEgkvAEAACCR8AYAAIBEwhsAAAASCW8AAABIJLwBAAAgkfAGAACARMIbAAAAEglvAAAASCS8AQAAIJHwBgAAgETCGwAAABIJbwAAAEgkvAEAACCR8AYAAIBEwhsAAAASCW8AAABIJLwBAAAgkfAGAACARMIbAAAAEglvAAAASCS8AQAAIJHwBgAAgETCGwAAABIJbwAAAEgkvAEAACCR8AYAAIBEwhsAAAASCW8AAABIJLwBAAAgkfAGAACARMIbAAAAEglvAAAASCS8AQAAIJHwBgAAgETCGwAAABIJbwAAAEgkvAEAACCR8AYAAIBEwhsAAAASCW8AAABIJLwBAAAgkfAGAACARMIbAAAAEglvAAAASCS8AQAAIJHwBgAAgETCGwAAABIJbwAAAEgkvAEAACCR8AYAAIBEwhsAAAASCW8AAABIJLwBAAAgkfAGAACARMIbAAAAEgnvBM3NzbFw4cIoLy+P/v37x5gxY2LVqlXHtHfPnj1x7bXXxjnnnBNnnHFGjB07NjZv3pw8MQAAAFn6dPcAJ6MpU6bECy+8EDU1NTFixIhYuXJlzJgxI9ra2uLqq68+4r6DBw/GJZdcEvv27Yv77rsvysrKYtmyZXHFFVfEpk2bYty4cV14FQAAABSD8C6ydevWxcaNG9tjOyJi/PjxsXPnzrj11ltj2rRp0bt378PufeSRR6KhoSGeffbZGDt2bPveCy+8MBYtWhRbtmzpsusAAACgONxqXmT19fVRWloaU6dO7bA+a9as2L1791Hjub6+Ps4777z26I6I6NOnT8ycOTOef/752LVrV9rcAAAA5BDeRdbQ0BAjR46MPn063kwwevTo9sePtveT5x1u77Zt24o4KQAAAF3BreZF1tjYGMOHDz9kfeDAge2PH23vJ8/7vHs/sWfPnti7d2+HtVdffTUiIrZv3/6Z+wEAgJPHJw1w8ODBbp7k1Ca8E5SUlBzXY53dGxGxfPnyWLp06WEfmzRp0mfuBwAATj5bt26Niy66qLvHOGUJ7yIbNGjQYd+Zbmpqiog47Dvaxdj7iXnz5h3y+fJXXnklZs6cGT//+c/jggsu+MyfAcdj+/btMWnSpFi7dm1UVFR09zicpJwzuoqzRldwzugKr776anzta1+LESNGdPcopzThXWSjRo2Kurq6aGlp6fA5761bt0ZERFVV1VH3fvK8TzuWvZ8oKyuLsrKywz52wQUXRGVl5Wf+DOiMiooK54x0zhldxVmjKzhndIUzzzyzu0c4pflytSKbPHlyNDc3x+rVqzus19bWRnl5eVRXVx917+uvv97hm89bWlpixYoVUV1dHeXl5WlzAwAAkMM73kU2ceLEmDBhQsydOzf2798fFRUVUVdXFxs2bIgVK1a0/w7vOXPmRG1tbezYsSOGDh0aERGzZ8+OZcuWxdSpU6OmpibKyspi+fLl8cYbb8SmTZu687IAAAA4TsI7wZo1a2Lx4sWxZMmSaGpqivPPPz/q6upi+vTp7c9pbW2N1tbWKBQK7Wv9+vWLzZs3x6JFi+Lmm2+ODz74IMaMGRPr16+PcePGdcelAAAA0EklhU+XHyelPXv2xPLly2PevHlH/Pw3dJZzRldwzugqzhpdwTmjKzhnJwbhDQAAAIl8uRoAAAAkEt4AAACQSHgDAABAIuENAAAAiYR3D9Xc3BwLFy6M8vLy6N+/f4wZMyZWrVp1THv37NkT1157bZxzzjlxxhlnxNixY2Pz5s3JE9NTHe9ZW7NmTcyYMSMqKiri9NNPj2HDhsU111wTb775ZhdMTU/Tmb/TPu22226LkpKSqKqqSpiSk0Fnz9qTTz4Z48aNizPPPDMGDBgQlZWV8eCDDyZOTE/UmXP2zDPPxIQJE6KsrCxKS0tj9OjRcf/990dra2vy1PQ0Bw4ciEWLFsVll10WX/jCF6KkpCTuuOOOY96vCbqW8O6hpkyZErW1tXH77bfH+vXr4+KLL44ZM2bEypUrj7rv4MGDcckll8TmzZvjvvvuiyeffDIGDx4cV1xxRfzyl7/sounpSY73rN19993xwQcfxOLFi2PDhg1x5513xn/8x3/ERRddFNu2beui6ekpjvecfdorr7wS99xzTwwePDhxUnq6zpy1mpqamDJlSlRVVcXPf/7zeOqpp2LevHnx8ccfd8Hk9CTHe842bdoUl156abS0tMRDDz0Ua9eujS9/+cuxYMGC+MY3vtFF09NTNDY2xoMPPhgHDx6MSZMmfa69mqAbFOhx/uVf/qUQEYWVK1d2WJ8wYUKhvLy80NLScsS9y5YtK0RE4dlnn21f+/3vf1+44IILCn/xF3+RNjM9U2fO2n//938fsrZr165C3759C3PmzCn6rPRcnTlnn/j9739fGDNmTGH+/PmFcePGFSorK7PGpQfrzFl78cUXC7169Srcfffd2WPSw3XmnF1zzTWFfv36FZqbmzusX3bZZYUzzzwzZV56rra2tkJbW1uhUCgU9u7dW4iIwu23335MezVB1/OOdw9UX18fpaWlMXXq1A7rs2bNit27d8eWLVuOuve8886LsWPHtq/16dMnZs6cGc8//3zs2rUrbW56ns6ctbKyskPWysvLY8iQIfHOO+8UfVZ6rs6cs0/U1NREU1NT3HXXXVljchLozFn78Y9/HP369Yubb745e0x6uM6cs759+8Zpp50Wp59+eof1s846K/r3758yLz1XSUlJlJSUHNdeTdD1hHcP1NDQECNHjow+ffp0WB89enT740fb+8nzDrfXLcB8WmfO2uG89dZbsXPnzqisrCzajPR8nT1nr776atx5553xk5/8JEpLS9PmpOfrzFn71a9+FSNHjozVq1fHeeedF717944hQ4bEt7/9bbea00FnztmNN94YH3/8ccyfPz92794d+/bti5/+9KdRX18fixYtSp2bU4sm6HrCuwdqbGyMgQMHHrL+yVpjY2PKXk49xTwvLS0tMWfOnCgtLY1bbrmlaDPS83XmnLW1tcXs2bNjypQpceWVV6bNyMmhM2dt165d8eabb8b8+fNj/vz5sWnTprj22mvjnnvuiVmzZqXNTM/TmXNWXV0dTz/9dNTX18eXvvSlOPvss2PWrFlx1113xTe/+c20mTn1aIKu1+ezn8KJ6Gi3lXzWLSed2cuppxjnpVAoxJw5c+LXv/51rF69Os4999xijcdJ4njP2Q9/+MN4880346mnnsoYi5PQ8Z61tra2OHDgQNTV1cX06dMjImL8+PHx/vvvx7333htLly6NioqKos9Lz3S85+yll16KyZMnR3V1dTzwwAMxYMCAePrpp+O2226Ljz76KL773e9mjMspShN0LeHdAw0aNOiw/wrV1NQUEXHYf70qxl5OPcU4L4VCIa677rpYsWJF1NbWxlVXXVX0OenZjvec/e53v4slS5ZETU1NnHbaabFv376I+MPdFW1tbbFv377o16/fIZ+V5NTV2f9+vvvuu3H55Zd3WJ84cWLce++98fLLLwtvIqJz5+zrX/96DB48OOrr66N3794R8Yd/4OnVq1fccccdcc0118Tw4cNzBueUogm6nlvNe6BRo0bFa6+9Fi0tLR3Wt27dGhFx1N9fO2rUqPbnfd69nHo6c9Yi/hjdjz32WDz88MMxc+bMtFnpuY73nL311lvx4YcfxoIFC+Lss89u//Pv//7v8dprr8XZZ58d3/nOd9Lnp+fozN9ph/ssZMQf/p6LiOjVy/+l4g86c85eeeWV+PM///P26P7ExRdfHG1tbfHaa68Vf2BOSZqg6/mvRA80efLkaG5ujtWrV3dYr62tjfLy8qiurj7q3tdff73DN2q2tLTEihUrorq6OsrLy9PmpufpzFkrFApx/fXXx2OPPRYPPPCAz0ByRMd7zsaMGRPPPPPMIX8uvPDCGDZsWDzzzDNx0003dcUl0EN05u+0r371qxERsX79+g7r69ati169esXFF19c/IHpkTpzzsrLy+PFF1+M1tbWDuvPPfdcREQMGTKk+ANzStIE3aBbf5kZx23ChAmFs88+u/Dggw8Wnn766cL1119fiIjCihUr2p8ze/bsQu/evQtvv/12+9pHH31UqKysLJx77rmFn/3sZ4WNGzcWJk+eXOjTp0/h3/7t37rjUjjBHe9Zu+mmmwoRUZg9e3bhueee6/Dn5Zdf7o5L4QR2vOfscPweb47meM/axx9/XLjooosKf/Inf1K47777Chs3bix861vfKvTu3btw0003dcelcAI73nN2//33FyKiMHHixMLatWsL//qv/1r41re+VejTp0/h0ksv7Y5L4QS3bt26whNPPFF49NFHCxFRmDp1auGJJ54oPPHEE4X333+/UChoghOF8O6hDhw4UJg/f37hi1/8YuG0004rjB49ulBXV9fhOX/3d39XiIjCb3/72w7r7777buFv//ZvCwMHDiz079+/8Jd/+ZeFjRs3duH09CTHe9aGDh1aiIjD/hk6dGjXXgQnvM78nfZ/CW+OpjNnrbGxsXDDDTcUBg8eXOjbt29hxIgRhX/4h38otLa2duEV0BN05pytXr268Fd/9VeFc845pzBgwIBCZWVl4Xvf+16hubm5C6+AnuJo/3/rk7OlCU4MJYXC//9wEgAAAFB0PuMNAAAAiYQ3AAAAJBLeAAAAkEh4AwAAQCLhDQAAAImENwAAACQS3gAAAJBIeAMAAEAi4Q0AAACJhDcAAAAkEt4AAACQSHgDAABAIuENAAAAiYQ3AAAAJBLeAAAAkEh4AwAAQCLhDQAAAImENwAAACQS3gAAAJBIeAMAAEAi4Q0AAACJhDcAAAAkEt4AAACQSHgDAABAIuENAAAAiYQ3AAAAJBLeAAAAkEh4AwAAQCLhDQAAAImENwAAACQS3gAAAJBIeAMAAEAi4Q0AAACJhDcAAAAkEt4AAACQSHgDAABAIuENAAAAiYQ3AAAAJBLeAAAAkEh4AwAAQCLhDQAAAImENwAAACQS3gAAAJBIeAMAAEAi4Q0AAACJhDcAAAAkEt4AAACQSHgDAABAIuENAAAAiYQ3AAAAJBLeAAAAkEh4AwAAQCLhDQAAAImENwAAACQS3gAAAJBIeAMAAEAi4Q0AAACJhDcAAAAkEt4AAACQSHgDAABAIuENAAAAiYQ3AAAAJBLeAAAAkEh4AwAAQCLhDQAAAImENwAAACQS3gAAAJBIeAMAAEAi4Q0AAACJhDcAAAAkEt4AAACQSHgDAABAIuENAAAAiYQ3AAAAJBLeAAAAkEh4AwAAQCLhDQAAAImENwAAACQS3gAAAJBIeAMAAEAi4Q0AAACJhDcAAAAkEt4AAACQSHgDAABAIuENAAAAif4fC7SSLxA0X20AAAAASUVORK5CYII=' width=990.0/>\n",
       "            </div>\n",
       "        "
      ],
      "text/plain": [
       "Canvas(toolbar=Toolbar(toolitems=[('Home', 'Reset original view', 'home', 'home'), ('Back', 'Back to previous …"
      ]
     },
     "metadata": {},
     "output_type": "display_data"
    },
    {
     "data": {
      "application/vnd.jupyter.widget-view+json": {
       "model_id": "a9095a4e50f84d079f947ba73b1d3061",
       "version_major": 2,
       "version_minor": 0
      },
      "text/plain": [
       "VBox(children=(Label(value='coefficient:'), VBox(children=(FloatSlider(value=0.1, description='y_l0_KK_multipl…"
      ]
     },
     "metadata": {},
     "output_type": "display_data"
    },
    {
     "data": {
      "application/vnd.jupyter.widget-view+json": {
       "model_id": "1b981cabc97546b68862938164e22536",
       "version_major": 2,
       "version_minor": 0
      },
      "text/plain": [
       "Output()"
      ]
     },
     "metadata": {},
     "output_type": "display_data"
    }
   ],
   "source": [
    "fig, ax = plt.subplots(figsize=(8.25, 5), dpi=120)\n",
    "\n",
    "y_l0_KKmulti = widgets.FloatSlider(value=0.1, min=0., max=1, step=1/10001 ,layout=widgets.Layout(width='75%'), description='y_l0_KK_multiplier')\n",
    "y_X0_KKmulti = widgets.FloatSlider(value=0.1, min=0., max=1, step=1/10001 ,layout=widgets.Layout(width='75%'), description='y_X0_KK_multiplier')\n",
    "y_X_fmulti   = widgets.FloatSlider(value=10,  min=0., max=10,step=1/10001 ,layout=widgets.Layout(width='75%'), description='y_X_fmultiplier')\n",
    "y_T_fmulti   = widgets.FloatSlider(value=1,   min=0., max=10,step=1/10001 ,layout=widgets.Layout(width='75%'), description='y_T_fmultiplier')\n",
    "y_T_KKmulti  = widgets.FloatSlider(value=0.01,min=0., max=0.02, step=1/10001 ,layout=widgets.Layout(width='75%'), description='y_T_KKmultiplier')\n",
    "y_T_rmulti   = widgets.FloatSlider(value=0.1, min=0., max=1, step=1/10001 ,layout=widgets.Layout(width='75%'), description='y_T_rmultiplier')\n",
    "\n",
    "y_X_r = 1\n",
    "    \n",
    "def need(y_l0_KKmulti, y_X0_KKmulti, y_X_fmulti, y_T_fmulti, y_T_KKmulti, y_T_rmulti):\n",
    "    ax.cla()\n",
    "    \n",
    "    y_l0_KK = y_l0_KKmulti * y_X_r\n",
    "    y_X0_KK = y_X0_KKmulti * y_X_r\n",
    "    y_X_f   = y_X_fmulti   * y_X_r\n",
    "    y_T_f   = y_T_fmulti   * y_X_r\n",
    "    y_T_KK  = y_T_KKmulti  * y_X_r\n",
    "    y_T_r   = y_T_rmulti   * y_X_r\n",
    "\n",
    "    #數值解\n",
    "    globals()['WP_DoVP'] = []\n",
    "    globals()['tot_DoVP'] = []\n",
    "    for l in np.linspace(0, 6, 7):\n",
    "        A = np.array([[-(y_l0_KK*(np.abs(l)+1)+y_X_r+y_X_f), y_l0_KK*(np.abs(l)+1), 0, 0],\n",
    "                     [y_l0_KK*(np.abs(l)+1), -(y_l0_KK*(np.abs(l)+1)+y_X_r+y_X_f), 0, 0],\n",
    "                     [y_X_f, 0, -(y_X0_KK+y_X_r), y_X0_KK],\n",
    "                     [0, y_X_f, y_X0_KK, -(y_X0_KK+y_X_r)]])\n",
    "        print('for l = ',l, '\\nthe matrix A is\\n',A)\n",
    "        b = np.array([-1, 0, 0, 0])\n",
    "        print('and the matrix b is\\n',b,'\\n----------------------------')\n",
    "        ans = np.linalg.inv(A).dot(b)\n",
    "        WP_DoVP_solution = (ans[0]-ans[1])/(ans[0]+ans[1])\n",
    "        tot_DoVP_solution = ((ans[0]+ans[2])-(ans[1]+ans[3]))/((ans[0]+ans[2])+(ans[1]+ans[3]))\n",
    "        globals()['WP_DoVP'] += [WP_DoVP_solution]\n",
    "        globals()['tot_DoVP'] += [tot_DoVP_solution]\n",
    "    #繪製數值解\n",
    "    ax.plot( np.linspace(0, 6, 7), globals()['WP_DoVP'], 'kx', markersize=10, zorder=3)\n",
    "    ax.plot( np.linspace(0, 6, 7), globals()['tot_DoVP'], 'rx', markersize=10, zorder=3)\n",
    "    \n",
    "    globals()['model_two_WP'] = []\n",
    "    globals()['model_two_tot'] = []\n",
    "    for l in range(0,7,1):\n",
    "        globals()['model_two_WP']   += [model_two_WP_function(l, y_l0_KK, y_X_r, y_X_f)]\n",
    "        globals()['model_two_tot']   += [model_two_Both_fun(l, y_l0_KK, y_X0_KK, y_X_r, y_X_f)]\n",
    "\n",
    "    \n",
    "    ax.plot( np.linspace(0, 6, 7), globals()['model_two_WP'], marker='s', linestyle='dashed', markersize=8, color='red' ,linewidth=1, zorder=2)\n",
    "    ax.plot( np.linspace(0, 6, 7), globals()['model_two_tot'], marker='s', linestyle='dashed', markersize=8, color='black' ,linewidth=1, zorder=2)\n",
    "\n",
    "    \n",
    "    for j, v in enumerate(globals()['model_two_WP']):\n",
    "        ax.text(j+0.4, v-0.08, \"%2.2f\" %v, ha=\"center\", fontsize=20)\n",
    "        \n",
    "    for j, v in enumerate(globals()['model_two_tot']):\n",
    "        ax.text(j+0.4, v-0.08, \"%2.2f\" %v, ha=\"center\", fontsize=20)\n",
    "\n",
    "    #圖片設置\n",
    "    ax.grid()\n",
    "    ax.set_ylabel('DoVP', fontsize=20, rotation=90)\n",
    "    ax.set_yticks(np.arange(0, 1.01, 1./10))\n",
    "    ax.set_yticks(np.arange(0, 1.01, 1./100), minor=True)\n",
    "    ax.set_ylim(0, 1)\n",
    "    ax.set_xlabel('$\\ell$', fontsize=20)\n",
    "    # ax.set_xticks(np.linspace(0, 6, 7), [' ', ' ', ' ', ' ', ' ', ' ', ' '])\n",
    "    ax.set_xticks(np.linspace(0, 6, 7), ['0', '1', '2', '3', '4', '5', '6'])\n",
    "    # ax.set_xlim(-0.5, 6.5)\n",
    "    ax.set_xlim(-0.2, 6.8)\n",
    "    ax.legend(['numerical $η^{X,\\ell}_{\\sf{Model-II}}$', 'numerical $η^{X}_{\\sf{Model-II}}$','$η^{X,\\ell}_{\\sf{Model-II}}$', '$η^{X}_{\\sf{Model-II}}$'], fontsize=16, loc='lower left')\n",
    "    ax.tick_params(axis='both', which='major', labelsize=20)\n",
    "    \n",
    "\n",
    "plt.tight_layout(pad=5)\n",
    "# plt.tight_layout(pad=2)\n",
    "# plt.subplots_adjust(left=0.1, right=0.9, \n",
    "#                     top=0.975, bottom=0.05, \n",
    "#                     wspace=0.4, hspace=0.028)\n",
    "plt.show()\n",
    "\n",
    "out = widgets.interactive_output(need, {'y_l0_KKmulti':y_l0_KKmulti, 'y_X0_KKmulti':y_X0_KKmulti, 'y_X_fmulti':y_X_fmulti, 'y_T_fmulti':y_T_fmulti, 'y_T_KKmulti':y_T_KKmulti, 'y_T_rmulti':y_T_rmulti})\n",
    "ui = widgets.VBox([widgets.Label('coefficient:'), widgets.VBox([y_l0_KKmulti, y_X0_KKmulti, y_X_fmulti, y_T_fmulti, y_T_KKmulti, y_T_rmulti]) ])\n",
    "display(ui , out )"
   ]
  },
  {
   "cell_type": "markdown",
   "id": "122f318c-aeae-45ea-b2c4-9e1e9265a24b",
   "metadata": {},
   "source": [
    "# Model-III "
   ]
  },
  {
   "cell_type": "code",
   "execution_count": 14,
   "id": "7c376172-eefb-42ea-b065-f4ac2108a6cf",
   "metadata": {},
   "outputs": [
    {
     "data": {
      "application/vnd.jupyter.widget-view+json": {
       "model_id": "72473b1d244948aaa4d8083d130e222f",
       "version_major": 2,
       "version_minor": 0
      },
      "image/png": "[encoded data removed]",
      "text/html": [
       "\n",
       "            <div style=\"display: inline-block;\">\n",
       "                <div class=\"jupyter-widgets widget-label\" style=\"text-align: center;\">\n",
       "                    Figure\n",
       "                </div>\n",
       "                <img src='data:image/png;base64,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' width=990.0/>\n",
       "            </div>\n",
       "        "
      ],
      "text/plain": [
       "Canvas(toolbar=Toolbar(toolitems=[('Home', 'Reset original view', 'home', 'home'), ('Back', 'Back to previous …"
      ]
     },
     "metadata": {},
     "output_type": "display_data"
    },
    {
     "data": {
      "application/vnd.jupyter.widget-view+json": {
       "model_id": "ea5f796df1c94177b42d95e3a14dd655",
       "version_major": 2,
       "version_minor": 0
      },
      "text/plain": [
       "VBox(children=(Label(value='coefficient:'), VBox(children=(FloatSlider(value=0.1, description='y_l0_KK_multipl…"
      ]
     },
     "metadata": {},
     "output_type": "display_data"
    },
    {
     "data": {
      "application/vnd.jupyter.widget-view+json": {
       "model_id": "92e4aaac944c4cabae2f13152f98f310",
       "version_major": 2,
       "version_minor": 0
      },
      "text/plain": [
       "Output()"
      ]
     },
     "metadata": {},
     "output_type": "display_data"
    }
   ],
   "source": [
    "fig, ax = plt.subplots(figsize=(8.25, 5), dpi=120)\n",
    "\n",
    "y_l0_KKmulti = widgets.FloatSlider(value=0.1, min=0., max=1, step=1/10001 ,layout=widgets.Layout(width='75%'), description='y_l0_KK_multiplier')\n",
    "y_X0_KKmulti = widgets.FloatSlider(value=0.1, min=0., max=1, step=1/10001 ,layout=widgets.Layout(width='75%'), description='y_X0_KK_multiplier')\n",
    "y_X_fmulti   = widgets.FloatSlider(value=10,  min=0., max=10,step=1/10001 ,layout=widgets.Layout(width='75%'), description='y_X_fmultiplier')\n",
    "y_T_fmulti   = widgets.FloatSlider(value=1,   min=0., max=10,step=1/10001 ,layout=widgets.Layout(width='75%'), description='y_T_fmultiplier')\n",
    "y_T_KKmulti  = widgets.FloatSlider(value=0.01,min=0., max=0.02, step=1/10001 ,layout=widgets.Layout(width='75%'), description='y_T_KKmultiplier')\n",
    "y_T_rmulti   = widgets.FloatSlider(value=0.1, min=0., max=1, step=1/10001 ,layout=widgets.Layout(width='75%'), description='y_T_rmultiplier')\n",
    "\n",
    "y_X_r = 1\n",
    "    \n",
    "def need(y_l0_KKmulti, y_X0_KKmulti, y_X_fmulti, y_T_fmulti, y_T_KKmulti, y_T_rmulti):\n",
    "    ax.cla()\n",
    "    \n",
    "    y_l0_KK = y_l0_KKmulti * y_X_r\n",
    "    y_X0_KK = y_X0_KKmulti * y_X_r\n",
    "    y_X_f   = y_X_fmulti   * y_X_r\n",
    "    y_T_f   = y_T_fmulti   * y_X_r\n",
    "    y_T_KK  = y_T_KKmulti  * y_X_r\n",
    "    y_T_r   = y_T_rmulti   * y_X_r\n",
    "\n",
    "    #數值解\n",
    "    globals()['TR'] = []\n",
    "    for l in np.linspace(0, 6, 7):\n",
    "        A = np.array([[-(y_l0_KK*(np.abs(l)+1)+y_X_r+y_X_f+y_T_f), y_l0_KK*(np.abs(l)+1), 0, 0, 0, 0],\n",
    "                     [y_l0_KK*(np.abs(l)+1), -(y_l0_KK*(np.abs(l)+1)+y_X_r+y_X_f+y_T_f), 0, 0, 0, 0],\n",
    "                     [y_X_f, 0, -(y_X0_KK+y_X_r+y_T_f), y_X0_KK, 0, 0],\n",
    "                     [0, y_X_f, y_X0_KK, -(y_X0_KK+y_X_r+y_T_f), 0, 0],\n",
    "                     [y_T_f, 0, y_T_f, 0, -(y_T_KK+y_T_r), y_T_KK],\n",
    "                     [0, y_T_f, 0, y_T_f, y_T_KK, -(y_T_KK+y_T_r)]])\n",
    "        print('for l = ',l, '\\nthe matrix A is\\n',A)\n",
    "        b = np.array([-1, 0, 0, 0, 0, 0])\n",
    "        print('and the matrix b is\\n',b,'\\n----------------------------')\n",
    "        ans = np.linalg.inv(A).dot(b)\n",
    "        TR_DoVP_solution = (ans[4]-ans[5])/(ans[4]+ans[5])\n",
    "        globals()['TR'] += [TR_DoVP_solution]\n",
    "    #繪製數值解\n",
    "    ax.plot( np.linspace(0, 6, 7), globals()['TR'], 'kx', markersize=10, zorder=3)\n",
    "    \n",
    "    globals()['TR'] = []\n",
    "    for l in range(0,7,1):\n",
    "        globals()['TR']   += [model_three_trion_fun(l, y_l0_KK, y_X0_KK, y_X_r, y_X_f, y_T_f, y_T_KK, y_T_r)]\n",
    "\n",
    "    ax.plot( np.linspace(0, 6, 7), globals()['TR'], marker='o', linestyle='dotted', markersize=8, color='mediumseagreen' ,linewidth=1, zorder=2)\n",
    "    \n",
    "    for j, v in enumerate(globals()['TR']):\n",
    "        ax.text(j+0.4, v-0.08, \"%2.2f\" %v, ha=\"center\", fontsize=20)\n",
    "\n",
    "\n",
    "    #圖片設置\n",
    "    ax.grid()\n",
    "    ax.set_ylabel('DoVP', fontsize=20, rotation=90)\n",
    "    ax.set_yticks(np.arange(0, 1.01, 1./10))\n",
    "    ax.set_yticks(np.arange(0, 1.01, 1./100), minor=True)\n",
    "    ax.set_ylim(0, 1)\n",
    "    ax.set_xlabel('$\\ell$', fontsize=20)\n",
    "    # ax.set_xticks(np.linspace(0, 6, 7), [' ', ' ', ' ', ' ', ' ', ' ', ' '])\n",
    "    ax.set_xticks(np.linspace(0, 6, 7), ['0', '1', '2', '3', '4', '5', '6'])\n",
    "    # ax.set_xlim(-0.5, 6.5)\n",
    "    ax.set_xlim(-0.2, 6.8)\n",
    "    ax.legend(['numerical $η^{T,\\ell}_{\\sf{Model-III}}$','$η^{T}_{\\sf{Model-III}}$'], fontsize=16, loc='lower left')\n",
    "    ax.tick_params(axis='both', which='major', labelsize=20)\n",
    "    \n",
    "\n",
    "plt.tight_layout(pad=5)\n",
    "# plt.tight_layout(pad=2)\n",
    "# plt.subplots_adjust(left=0.1, right=0.9, \n",
    "#                     top=0.975, bottom=0.05, \n",
    "#                     wspace=0.4, hspace=0.028)\n",
    "plt.show()\n",
    "\n",
    "out = widgets.interactive_output(need, {'y_l0_KKmulti':y_l0_KKmulti, 'y_X0_KKmulti':y_X0_KKmulti, 'y_X_fmulti':y_X_fmulti, 'y_T_fmulti':y_T_fmulti, 'y_T_KKmulti':y_T_KKmulti, 'y_T_rmulti':y_T_rmulti})\n",
    "ui = widgets.VBox([widgets.Label('coefficient:'), widgets.VBox([y_l0_KKmulti, y_X0_KKmulti, y_X_fmulti, y_T_fmulti, y_T_KKmulti, y_T_rmulti]) ])\n",
    "display(ui , out )"
   ]
  },
  {
   "cell_type": "markdown",
   "id": "da7b758b-52ad-4293-b2c9-0fe5a62f230e",
   "metadata": {},
   "source": [
    "# Tight focusing "
   ]
  },
  {
   "cell_type": "code",
   "execution_count": 17,
   "id": "2a9783cf-cd50-401c-a011-3d75d36794a3",
   "metadata": {},
   "outputs": [
    {
     "data": {
      "application/vnd.jupyter.widget-view+json": {
       "model_id": "d98ee6c228094e51a754775c64eced09",
       "version_major": 2,
       "version_minor": 0
      },
      "image/png": "[encoded data removed]",
      "text/html": [
       "\n",
       "            <div style=\"display: inline-block;\">\n",
       "                <div class=\"jupyter-widgets widget-label\" style=\"text-align: center;\">\n",
       "                    Figure\n",
       "                </div>\n",
       "                <img src='data:image/png;base64,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' width=1530.0/>\n",
       "            </div>\n",
       "        "
      ],
      "text/plain": [
       "Canvas(toolbar=Toolbar(toolitems=[('Home', 'Reset original view', 'home', 'home'), ('Back', 'Back to previous …"
      ]
     },
     "metadata": {},
     "output_type": "display_data"
    },
    {
     "data": {
      "application/vnd.jupyter.widget-view+json": {
       "model_id": "afd5785c56904f66a3f600cfc8935aa3",
       "version_major": 2,
       "version_minor": 0
      },
      "text/plain": [
       "VBox(children=(Label(value='coefficient:'), VBox(children=(FloatSlider(value=0.1, description='y_l0_KK_multipl…"
      ]
     },
     "metadata": {},
     "output_type": "display_data"
    },
    {
     "data": {
      "application/vnd.jupyter.widget-view+json": {
       "model_id": "7cba86c8ecec4bdf959f2c2ef58b6f7e",
       "version_major": 2,
       "version_minor": 0
      },
      "text/plain": [
       "Output()"
      ]
     },
     "metadata": {},
     "output_type": "display_data"
    }
   ],
   "source": [
    "fig, ax = plt.subplots(figsize=(8.5, 5.4), dpi=180)\n",
    "\n",
    "y_l0_KKmulti = widgets.FloatSlider(value=0.1, min=0., max=1, step=1/10001 ,layout=widgets.Layout(width='75%'), description='y_l0_KK_multiplier')\n",
    "y_X0_KKmulti = widgets.FloatSlider(value=0.1, min=0., max=1, step=1/10001 ,layout=widgets.Layout(width='75%'), description='y_X0_KK_multiplier')\n",
    "y_X_fmulti   = widgets.FloatSlider(value=10,  min=0., max=50,step=1/10001 ,layout=widgets.Layout(width='75%'), description='y_X_fmultiplier')\n",
    "y_T_fmulti   = widgets.FloatSlider(value=1,   min=0., max=5,step=1/10001 ,layout=widgets.Layout(width='75%'), description='y_T_fmultiplier')\n",
    "y_T_KKmulti  = widgets.FloatSlider(value=0.01,min=0., max=0.01, step=1/1000001 ,layout=widgets.Layout(width='75%'), description='y_T_KKmultiplier')\n",
    "y_T_rmulti   = widgets.FloatSlider(value=0.1, min=0., max=0.5, step=1/10001 ,layout=widgets.Layout(width='75%'), description='y_T_rmultiplier')\n",
    "\n",
    "y_X_r = 1\n",
    "\n",
    "# GK = []\n",
    "# GKprime = []\n",
    "GKinRCP = [90.04, 91.57, 93.10, 94.63, 96.16, 97.70, 99.27, 91.69, 91.58, 90.80, 89.48, 88.07, 86.61]\n",
    "GKprimeinRCP = [1.37, 0.99, 0.67, 0.42, 0.23, 0.10, 0.02, 0.19, 1.33, 1.20, 1.49, 1.89, 2.36]\n",
    "\n",
    "GKinLCP = [2.36, 1.89, 1.49, 1.20, 1.33, 0.19, 0.02, 0.10, 0.23, 0.42, 0.67, 0.99, 1.37]\n",
    "GKprimeinLCP = [86.61, 88.07, 89.48, 90.80, 91.58, 91.69, 99.27, 99.70, 96.16, 94.63, 93.10, 91.57, 90.04]\n",
    "    \n",
    "all_one = []\n",
    "GratioR = []\n",
    "GratioL = []\n",
    "for i in range(13):\n",
    "    GratioR += [(GKinRCP[i]-GKprimeinRCP[i])/(GKinRCP[i]+GKprimeinRCP[i])]\n",
    "    GratioL += [np.abs((GKinLCP[i]-GKprimeinLCP[i])/(GKinLCP[i]+GKprimeinLCP[i]))]\n",
    "\n",
    "    all_one += [np.abs(-1)]\n",
    "    \n",
    "def need(y_l0_KKmulti, y_X0_KKmulti, y_X_fmulti, y_T_fmulti, y_T_KKmulti, y_T_rmulti):\n",
    "\n",
    "    ax.cla()\n",
    "\n",
    "    y_l0_KK = y_l0_KKmulti * y_X_r\n",
    "    y_X0_KK = y_X0_KKmulti * y_X_r\n",
    "    y_X_f   = y_X_fmulti   * y_X_r\n",
    "    y_T_f   = y_T_fmulti   * y_X_r\n",
    "    y_T_KK  = y_T_KKmulti  * y_X_r\n",
    "    y_T_r   = y_T_rmulti   * y_X_r\n",
    "    print(\"y_l0_KK = \"+str(format(y_l0_KK,'.2f')))\n",
    "    print(\"y_X0_KK = \"+str(format(y_X0_KK,'.2f')))\n",
    "    print(\"y_X_f = \"+str(format(y_X_f,'.2f')))\n",
    "    print(\"y_T_f = \"+str(format(y_T_f,'.2f')))\n",
    "    print(\"y_T_KK = \"+str(format(y_T_KK,'.5f')))\n",
    "    print(\"y_T_r = \"+str(format(y_T_r,'.5f')))\n",
    "    \n",
    "    #數值解\n",
    "    globals()['TR_RCP'] = []\n",
    "    globals()['TR_LCP'] = []\n",
    "    for l in np.linspace(-6, 6, 13):\n",
    "        A = np.array([[-(y_l0_KK*(np.abs(l)+1)+y_X_r+y_X_f+y_T_f), y_l0_KK*(np.abs(l)+1), 0, 0, 0, 0],\n",
    "                     [y_l0_KK*(np.abs(l)+1), -(y_l0_KK*(np.abs(l)+1)+y_X_r+y_X_f+y_T_f), 0, 0, 0, 0],\n",
    "                     [y_X_f, 0, -(y_X0_KK+y_X_r+y_T_f), y_X0_KK, 0, 0],\n",
    "                     [0, y_X_f, y_X0_KK, -(y_X0_KK+y_X_r+y_T_f), 0, 0],\n",
    "                     [y_T_f, 0, y_T_f, 0, -(y_T_KK+y_T_r), y_T_KK],\n",
    "                     [0, y_T_f, 0, y_T_f, y_T_KK, -(y_T_KK+y_T_r)]])\n",
    "        # print('for l = ',l, '\\nthe matrix A is\\n',A)\n",
    "        b_RCP = np.array([-GKinRCP[int(l+6)], -GKprimeinRCP[int(l+6)], 0, 0, 0, 0])\n",
    "        # print('and the matrix b (RCP) is\\n',b_RCP,'\\n----------------------------')\n",
    "        ans = np.linalg.inv(A).dot(b_RCP)\n",
    "        TR_RCP_DoVP_solution = np.abs((ans[4]-ans[5])/(ans[4]+ans[5]))\n",
    "        globals()['TR_RCP'] += [TR_RCP_DoVP_solution]\n",
    "\n",
    "        # print('for l = ',l, '\\nthe matrix A is\\n',A)\n",
    "        b_LCP = np.array([-GKinLCP[int(l+6)], -GKprimeinLCP[int(l+6)], 0, 0, 0, 0])\n",
    "        # print('and the matrix b (LCP) is\\n',b_LCP,'\\n----------------------------')\n",
    "        ans = np.linalg.inv(A).dot(b_LCP)\n",
    "        TR_LCP_DoVP_solution = np.abs((ans[4]-ans[5])/(ans[4]+ans[5]))\n",
    "        globals()['TR_LCP'] += [TR_LCP_DoVP_solution]\n",
    "    #繪製數值解\n",
    "    ax.plot( np.linspace(-6, 6, 13), globals()['TR_RCP'], 'rX', markeredgecolor='k', markersize=7, zorder=3)\n",
    "    ax.plot( np.linspace(-6, 6, 13), globals()['TR_LCP'], 'bX', markeredgecolor='k', markersize=7, zorder=3)\n",
    "    \n",
    "    globals()['TR_without_TF'] = []\n",
    "    globals()['TR_R'] = []\n",
    "    globals()['TR_L'] = []\n",
    "    for l in range(-6,7,1):\n",
    "        globals()['TR_without_TF'] += [model_three_trion_fun(l, y_l0_KK, y_X0_KK, y_X_r, y_X_f, y_T_f, y_T_KK, y_T_r) * all_one[l+6]]\n",
    "        globals()['TR_R']    += [model_three_trion_fun(l, y_l0_KK, y_X0_KK, y_X_r, y_X_f, y_T_f, y_T_KK, y_T_r) * GratioR[l+6]]\n",
    "        globals()['TR_L']    += [model_three_trion_fun(l, y_l0_KK, y_X0_KK, y_X_r, y_X_f, y_T_f, y_T_KK, y_T_r) * GratioL[l+6]]\n",
    "    \n",
    "    ax.plot( np.linspace(-6, 6, 13), globals()['TR_without_TF'], marker='x', linestyle='solid', markersize=8, markeredgecolor='black', color='black' ,linewidth=1, zorder=2)\n",
    "    ax.plot( np.linspace(-6, 6, 13), globals()['TR_R'], marker='o', linestyle='dotted', markersize=8, color='red' ,linewidth=1, zorder=2)\n",
    "    ax.plot( np.linspace(-6, 6, 13), globals()['TR_L'], marker='o', linestyle='dotted', markersize=8, color='blue' ,linewidth=1, zorder=2)\n",
    "        \n",
    "    globals()['TR_without_TF_for_text'] = []\n",
    "    for L in range(-6,7,2):\n",
    "        globals()['TR_without_TF_for_text'] += [model_three_trion_fun(L, y_l0_KK, y_X0_KK, y_X_r, y_X_f, y_T_f, y_T_KK, y_T_r)* all_one[l+6]]\n",
    "    for j, v in enumerate(globals()['TR_without_TF_for_text']):\n",
    "        ax.text((j-3)*2, v+0.005, \"%2.3f\" %v, ha=\"center\", fontsize=12)\n",
    "        \n",
    "    globals()['TR_R_for_text'] = []\n",
    "    for L in range(-6,7,2):\n",
    "        globals()['TR_R_for_text']            += [model_three_trion_fun(L, y_l0_KK, y_X0_KK, y_X_r, y_X_f, y_T_f, y_T_KK, y_T_r) * GratioR[L+6]]\n",
    "    for j, v in enumerate(globals()['TR_R_for_text']):\n",
    "        ax.text((j-3)*2, v-0.011, \"%2.3f\" %v, ha=\"center\", fontsize=12)\n",
    "        \n",
    "    globals()['TR_L_for_text'] = []\n",
    "    for L in range(-6,7,2):\n",
    "        globals()['TR_L_for_text']            += [model_three_trion_fun(L, y_l0_KK, y_X0_KK, y_X_r, y_X_f, y_T_f, y_T_KK, y_T_r) * GratioL[L+6]]\n",
    "    for j, v in enumerate(globals()['TR_L_for_text']):\n",
    "        ax.text((j-3)*2, v-0.011, \"%2.3f\" %v, ha=\"center\", fontsize=12)\n",
    "  \n",
    "    ax.grid()\n",
    "    # ax.set_title('Trion DoVP for LCP case', fontsize=16)\n",
    "    ax.set_ylabel('$|η^{T}_{\\sf{Model-III}}|$', fontsize=20, rotation=90)\n",
    "    ax.set_yticks(np.arange(0.63, 0.77, 0.02))\n",
    "    # ax.set_yticks(np.arange(0, 1.01, 1./100), minor=True)\n",
    "    ax.set_ylim(0.63, 0.77)\n",
    "    ax.set_xlabel('$\\ell$', fontsize=20)\n",
    "    # ax.set_xticks(np.linspace(-6, 6, 13), [' ', ' ', ' ', ' ', ' ', ' ',' ', ' ', ' ', ' ', ' ', ' ', ' '])\n",
    "    ax.set_xticks(np.linspace(-6, 6, 13), ['-6', '-5', '-4', '-3', '-2', '-1', '0', '1', '2', '3', '4', '5', '6'])\n",
    "    ax.set_xlim(-6.8, 6.8)\n",
    "    ax.legend([\"numerical w/ tight focusing (RCP)\",\"numerical w/ tight focusing (LCP)\", \"w/o tight focusing\", \"w/ tight focusing (RCP)\", \"w/ tight focusing (LCP)\"], fontsize=12, loc='lower center')\n",
    "    ax.tick_params(axis='both', which='major', labelsize=14)\n",
    "    \n",
    "\n",
    "plt.tight_layout(pad=7.7)\n",
    "# plt.tight_layout(pad=2)\n",
    "# plt.subplots_adjust(left=0.1, right=0.9, \n",
    "#                     top=0.975, bottom=0.05, \n",
    "#                     wspace=0.4, hspace=0.028)\n",
    "plt.show()\n",
    "\n",
    "out = widgets.interactive_output(need, {'y_l0_KKmulti':y_l0_KKmulti, 'y_X0_KKmulti':y_X0_KKmulti, 'y_X_fmulti':y_X_fmulti, 'y_T_fmulti':y_T_fmulti, 'y_T_KKmulti':y_T_KKmulti, 'y_T_rmulti':y_T_rmulti})\n",
    "ui = widgets.VBox([widgets.Label('coefficient:'), widgets.VBox([y_l0_KKmulti, y_X0_KKmulti, y_X_fmulti, y_T_fmulti, y_T_KKmulti, y_T_rmulti]) ])\n",
    "display(ui , out )"
   ]
  },
  {
   "cell_type": "code",
   "execution_count": null,
   "id": "fa07c817-0bbf-4891-954e-af6bc5be648b",
   "metadata": {},
   "outputs": [],
   "source": []
  }
 ],
 "metadata": {
  "kernelspec": {
   "display_name": "Python 3 (ipykernel)",
   "language": "python",
   "name": "python3"
  },
  "language_info": {
   "codemirror_mode": {
    "name": "ipython",
    "version": 3
   },
   "file_extension": ".py",
   "mimetype": "text/x-python",
   "name": "python",
   "nbconvert_exporter": "python",
   "pygments_lexer": "ipython3",
   "version": "3.11.10"
  }
 },
 "nbformat": 4,
 "nbformat_minor": 5
}
