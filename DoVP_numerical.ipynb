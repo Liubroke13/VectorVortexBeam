{
 "cells": [
  {
   "cell_type": "code",
   "execution_count": 1,
   "id": "29e60c72-04fe-46bf-8482-040be37b1353",
   "metadata": {},
   "outputs": [],
   "source": [
    "%matplotlib ipympl\n",
    "import matplotlib.pyplot as plt\n",
    "import numpy as np\n",
    "import scipy as sc\n",
    "from sympy import solve, linsolve, symbols, Matrix, Eq\n",
    "import ipywidgets as widgets"
   ]
  },
  {
   "cell_type": "code",
   "execution_count": 2,
   "id": "d4403eec-d792-4c3f-8bb1-df34b0b9fbab",
   "metadata": {},
   "outputs": [
    {
     "name": "stdout",
     "output_type": "stream",
     "text": [
      "[-5.  3.]\n"
     ]
    }
   ],
   "source": [
    "A = np.array([[3, -9], [2, 4]])\n",
    "b = np.array([-42, 2])\n",
    " \n",
    "# method 1\n",
    " \n",
    "ans1 = np.linalg.inv(A).dot(b)\n",
    " \n",
    "# # method 2\n",
    " \n",
    "# lu, piv = lu_factor(A)\n",
    "# ans2 = scipy.linalg.lu_solve((lu, piv), b)\n",
    " \n",
    "# # method 3\n",
    " \n",
    "# ans3 = np.linalg.solve(A, b)\n",
    " \n",
    "# print(ans1, ans2, ans3)\n",
    "print(ans1)"
   ]
  },
  {
   "cell_type": "code",
   "execution_count": 6,
   "id": "f6c0a3a6-5de2-42a1-947b-869b8851ba60",
   "metadata": {},
   "outputs": [],
   "source": [
    "# l = widgets.IntText(value=0, min=-6, max=6, step=1, description='l:', disabled=False)\n",
    "# y_l0_KKmulti = widgets.FloatSlider(value=0.1, min=0., max=1, step=1/10001 ,layout=widgets.Layout(width='75%'), description='y_l0_KK_multiplier')\n",
    "# y_Xd_KKmulti = widgets.FloatSlider(value=0.1, min=0., max=1, step=1/10001 ,layout=widgets.Layout(width='75%'), description='y_Xd_KK_multiplier')\n",
    "# y_X_fmulti   = widgets.FloatSlider(value=10,  min=0., max=10,step=1/10001 ,layout=widgets.Layout(width='75%'), description='y_X_fmultiplier')\n",
    "# y_T_fmulti   = widgets.FloatSlider(value=1,   min=0., max=10,step=1/10001 ,layout=widgets.Layout(width='75%'), description='y_T_fmultiplier')\n",
    "# y_T_KKmulti  = widgets.FloatSlider(value=0.01,min=0., max=0.02, step=1/10001 ,layout=widgets.Layout(width='75%'), description='y_T_KKmultiplier')\n",
    "# y_T_rmulti   = widgets.FloatSlider(value=0.1, min=0., max=1, step=1/10001 ,layout=widgets.Layout(width='75%'), description='y_T_rmultiplier')\n",
    "\n",
    "# y_X_r = 1\n",
    "\n",
    "# def need(l, y_l0_KKmulti, y_Xd_KKmulti, y_X_fmulti, y_T_fmulti, y_T_KKmulti, y_T_rmulti):\n",
    "\n",
    "#     y_l0_KK = y_l0_KKmulti * y_X_r\n",
    "#     y_Xd_KK = y_Xd_KKmulti * y_X_r\n",
    "#     y_X_f   = y_X_fmulti   * y_X_r\n",
    "#     y_T_f   = y_T_fmulti   * y_X_r\n",
    "#     y_T_KK  = y_T_KKmulti  * y_X_r\n",
    "#     y_T_r   = y_T_rmulti   * y_X_r\n",
    "\n",
    "#     A = np.array([[0, 0, 0, 0, 0, 0,], [2, 4]])\n",
    "#     b = np.array([-42, 2])\n",
    "    \n",
    "#     # print(\"y_l0_KK = \"+str(format(y_l0_KK,'.2f')))\n",
    "#     # print(\"y_Xd_KK = \"+str(format(y_Xd_KK,'.2f')))\n",
    "#     # print(\"y_X_f = \"+str(format(y_X_f,'.2f')))\n",
    "#     # print(\"y_T_f = \"+str(format(y_T_f,'.2f')))\n",
    "#     # print(\"y_T_KK = \"+str(format(y_T_KK,'.2f')))\n",
    "#     # print(\"y_T_r = \"+str(format(y_T_r,'.2f')))\n",
    "    \n",
    "\n",
    "# out = widgets.interactive_output(need, {'l':l, 'y_l0_KKmulti':y_l0_KKmulti, 'y_Xd_KKmulti':y_Xd_KKmulti, 'y_X_fmulti':y_X_fmulti, 'y_T_fmulti':y_T_fmulti, 'y_T_KKmulti':y_T_KKmulti, 'y_T_rmulti':y_T_rmulti})\n",
    "# ui = widgets.VBox([widgets.Label('coefficient:'), widgets.VBox([l, y_l0_KKmulti, y_Xd_KKmulti, y_X_fmulti, y_T_fmulti, y_T_KKmulti, y_T_rmulti]) ])\n",
    "# display(ui , out )"
   ]
  },
  {
   "cell_type": "code",
   "execution_count": 3,
   "id": "dc9828a0-387b-4ca8-b6ec-d7f1446c67bc",
   "metadata": {},
   "outputs": [],
   "source": [
    "def B_exciton_function(y_B_ex, y_B_De, y_B_r):\n",
    "    B = 1/(1+2*y_B_ex/(y_B_De+y_B_r))\n",
    "    return B\n",
    "\n",
    "def A_exciton_function(y_B_ex, y_B_De, y_B_r, y_A_ex, y_A_r):\n",
    "    A = 1/(1+2*(y_A_ex/y_A_r))*(-1)*B_exciton_function(y_B_ex, y_B_De, y_B_r)\n",
    "    return A"
   ]
  },
  {
   "cell_type": "code",
   "execution_count": 13,
   "id": "7a6d0b5f-e653-40ef-930a-d002760e39bb",
   "metadata": {},
   "outputs": [
    {
     "data": {
      "application/vnd.jupyter.widget-view+json": {
       "model_id": "984ccfc7c96f4871b91ade8394df9557",
       "version_major": 2,
       "version_minor": 0
      },
      "text/plain": [
       "VBox(children=(Label(value='coefficient:'), VBox(children=(FloatSlider(value=1.0, description='y_B_ex_multipli…"
      ]
     },
     "metadata": {},
     "output_type": "display_data"
    },
    {
     "data": {
      "application/vnd.jupyter.widget-view+json": {
       "model_id": "a19aea1e93d54d3986e4e80306ee57f4",
       "version_major": 2,
       "version_minor": 0
      },
      "text/plain": [
       "Output()"
      ]
     },
     "metadata": {},
     "output_type": "display_data"
    }
   ],
   "source": [
    "y_B_exmulti = widgets.FloatSlider(value=10, min=0., max=1, step=1/10001 ,layout=widgets.Layout(width='75%'), description='y_B_ex_multiplier')\n",
    "y_B_Demulti = widgets.FloatSlider(value=1, min=0., max=10, step=1/10001 ,layout=widgets.Layout(width='75%'), description='y_B_De_multiplier')\n",
    "# y_B_rmulti   = widgets.FloatSlider(value=10,  min=0., max=10,step=1/10001 ,layout=widgets.Layout(width='75%'), description='y_X_fmultiplier')\n",
    "y_A_exmulti   = widgets.FloatSlider(value=10,   min=0., max=1,step=1/10001 ,layout=widgets.Layout(width='75%'), description='y_A_exmultiplier')\n",
    "y_A_rmulti  = widgets.FloatSlider(value=1,min=0., max=1, step=1/10001 ,layout=widgets.Layout(width='75%'), description='y_A_rmultiplier')\n",
    "\n",
    "y_B_r = 1\n",
    "\n",
    "G_B_K = 1\n",
    "\n",
    "def need(y_B_exmulti, y_B_Demulti, y_A_exmulti, y_A_rmulti):\n",
    "    fig, ax = plt.subplots(figsize=(8.25, 5), dpi=120)\n",
    "    \n",
    "    y_B_ex = y_B_exmulti * y_B_r\n",
    "    # y_B_De = y_B_Demulti * y_B_r\n",
    "    y_A_ex = y_A_exmulti * y_B_r\n",
    "    y_A_r  = y_A_rmulti  * y_B_r\n",
    "    \n",
    "    globals()['ADoVP'] = []\n",
    "    globals()['BDoVP'] = []\n",
    "    # for y_B_De in np.linspace(0.00001, 10, 30):\n",
    "        \n",
    "    #     A = np.array([[-(y_B_ex+y_B_De+y_B_r), y_B_ex, 0, 0], \n",
    "    #                   [y_B_ex, -(y_B_ex+y_B_De+y_B_r), 0, 0], \n",
    "    #                   [0, y_B_De, -(y_A_ex+y_A_r), y_A_ex], \n",
    "    #                   [y_B_De, 0, y_A_ex, -(y_A_ex+y_A_r)]])\n",
    "    #     b = np.array([-G_B_K, 0, 0, 0])\n",
    "    \n",
    "    #     ans1 = np.linalg.inv(A).dot(b)\n",
    "    #     # print(\"N^B_K:\",ans1[0],\"\\nN^B_K':\",ans1[1], \"\\nN^A_K:\",ans1[2],\"\\nN^A_K':\",ans1[3])\n",
    "    #     DoVP_of_B = (ans1[0]-ans1[1])/(ans1[0]+ans1[1]) # print(\"B exciton DoVP = \",BDoVP)\n",
    "    #     DoVP_of_A = (ans1[2]-ans1[3])/(ans1[2]+ans1[3]) # print(\"A exciton DoVP = \",ADoVP)\n",
    "        \n",
    "    #     globals()['BDoVP'] += [DoVP_of_B]\n",
    "    #     globals()['ADoVP'] += [DoVP_of_A]\n",
    "\n",
    "    # y_B_De = np.linspace(0.00001, 10, 30)\n",
    "    # ax.plot( y_B_De , globals()['BDoVP'], 'kx', markersize=12, zorder=2)\n",
    "    ax.plot( np.linspace(0, 10, 10000) , B_exciton_function(y_B_ex, np.linspace(0, 10, 10000), y_B_r), linestyle='solid', color='blue' ,linewidth=2.5, zorder=2)\n",
    "    \n",
    "    # ax.plot( y_B_De, globals()['ADoVP'], 'kx', markersize=12, zorder=2)\n",
    "    ax.plot( np.linspace(0, 50, 10000) , A_exciton_function(y_B_ex, np.linspace(0, 50, 10000), y_B_r, y_A_ex, y_A_r), linestyle='dashed', color='red' ,linewidth=2.5, zorder=2)\n",
    "    \n",
    "    size = 25\n",
    "    # ax.set_title('analytic result', fontsize=size)\n",
    "    ax.grid()\n",
    "    # ax.set_ylabel(\"$𝜂^𝐵$\", fontsize=size-3, rotation=90)\n",
    "    # ax.set_ylabel(\"$𝜂^𝐴$\", fontsize=size-3, rotation=90)\n",
    "    # ax.set_yticks(np.arange(0, 1.01, 1./5))\n",
    "    # ax.set_yticks(np.arange(0, 1.01, 1./10), minor=True)\n",
    "    # ax.set_ylim(0, 1)\n",
    "    # ax.set_xticks(np.arange(0, 10.01, 1))\n",
    "    # ax.set_xlim(0, 10)\n",
    "    # ax.set_yticks(np.arange(-1, 0.01, 1./5))\n",
    "    # ax.set_yticks(np.arange(-1, 0.01, 1./10), minor=True)\n",
    "    # ax.set_ylim(-1, 0)\n",
    "    # ax.set_xticks(np.arange(0, 10.01, 1))\n",
    "    # ax.set_xlim(0, 10)\n",
    "    ax.set_ylabel(\"DoVP\", fontsize=size-3, rotation=90)\n",
    "    ax.set_yticks(np.arange(-1, 1.01, 2./5))\n",
    "    ax.set_yticks(np.arange(-1, 1.01, 2./10), minor=True)\n",
    "    ax.set_ylim(-1, 1)\n",
    "    ax.set_xticks(np.arange(0, 10.01, 1))\n",
    "    ax.set_xlim(0, 10)\n",
    "    ax.set_xlabel('$𝛾_{𝐵,𝐾𝐾′}^{𝐷𝑒𝑥𝑡𝑒𝑟}/𝛾_{𝐵,𝑟}^𝑋$', fontsize=size)\n",
    "    ax.tick_params(axis='both', which='major', labelsize=20)\n",
    "    # ax.legend(['numerical', 'analytic'], fontsize=16, loc='lower left')\n",
    "    ax.legend([\"$𝜂^𝐵$\", \"$𝜂^𝐴$\"], fontsize=20, loc='lower left')\n",
    "    plt.tight_layout(pad=3.1)\n",
    "    plt.show() \n",
    "\n",
    "\n",
    "out = widgets.interactive_output(need, {'y_B_exmulti':y_B_exmulti, 'y_B_Demulti':y_B_Demulti, 'y_A_exmulti':y_A_exmulti, 'y_A_rmulti':y_A_rmulti})\n",
    "ui = widgets.VBox([widgets.Label('coefficient:'), widgets.VBox([y_B_exmulti, y_B_Demulti, y_A_exmulti, y_A_rmulti]) ])\n",
    "display(ui , out )"
   ]
  },
  {
   "cell_type": "code",
   "execution_count": 12,
   "id": "52dea9d9-bd48-446d-b093-38719a0db67a",
   "metadata": {},
   "outputs": [
    {
     "data": {
      "application/vnd.jupyter.widget-view+json": {
       "model_id": "27e1c903fd9a4ba4ba904ea9dd267da7",
       "version_major": 2,
       "version_minor": 0
      },
      "text/plain": [
       "VBox(children=(Label(value='coefficient:'), VBox(children=(FloatSlider(value=1.0, description='y_B_ex_multipli…"
      ]
     },
     "metadata": {},
     "output_type": "display_data"
    },
    {
     "data": {
      "application/vnd.jupyter.widget-view+json": {
       "model_id": "b1f6c6d7ec0c462fb3620bb925f00a15",
       "version_major": 2,
       "version_minor": 0
      },
      "text/plain": [
       "Output()"
      ]
     },
     "metadata": {},
     "output_type": "display_data"
    }
   ],
   "source": [
    "y_B_exmulti = widgets.FloatSlider(value=10, min=0., max=1, step=1/10001 ,layout=widgets.Layout(width='75%'), description='y_B_ex_multiplier')\n",
    "y_B_Demulti = widgets.FloatSlider(value=7, min=0., max=10, step=1/10001 ,layout=widgets.Layout(width='75%'), description='y_B_De_multiplier')\n",
    "# y_B_rmulti   = widgets.FloatSlider(value=10,  min=0., max=10,step=1/10001 ,layout=widgets.Layout(width='75%'), description='y_X_fmultiplier')\n",
    "y_A_exmulti   = widgets.FloatSlider(value=10,   min=0., max=1,step=1/10001 ,layout=widgets.Layout(width='75%'), description='y_A_exmultiplier')\n",
    "y_A_rmulti  = widgets.FloatSlider(value=1,min=0., max=1, step=1/10001 ,layout=widgets.Layout(width='75%'), description='y_A_rmultiplier')\n",
    "\n",
    "y_B_r = 1\n",
    "\n",
    "G_B_K = 1\n",
    "\n",
    "def need(y_B_exmulti, y_B_Demulti, y_A_exmulti, y_A_rmulti):\n",
    "    fig, ax = plt.subplots(figsize=(6.3, 5), dpi=120)\n",
    "    # fig, ax = plt.subplots(figsize=(7.25, 5), dpi=120)\n",
    "    y_B_ex = y_B_exmulti * y_B_r\n",
    "    y_B_De = y_B_Demulti * y_B_r\n",
    "    y_A_ex = y_A_exmulti * y_B_r\n",
    "    # y_A_r  = y_A_rmulti  * y_B_r\n",
    "    \n",
    "    # globals()['ADoVP'] = []\n",
    "    # globals()['BDoVP'] = []\n",
    "    # for y_A_r in np.linspace(0.1, 10, 30):\n",
    "        \n",
    "    #     A = np.array([[-(y_B_ex+y_B_De+y_B_r), y_B_ex, 0, 0], \n",
    "    #                   [y_B_ex, -(y_B_ex+y_B_De+y_B_r), 0, 0], \n",
    "    #                   [0, y_B_De, -(y_A_ex+y_A_r), y_A_ex], \n",
    "    #                   [y_B_De, 0, y_A_ex, -(y_A_ex+y_A_r)]])\n",
    "    #     b = np.array([-G_B_K, 0, 0, 0])\n",
    "    \n",
    "    #     ans1 = np.linalg.inv(A).dot(b)\n",
    "    #     # print(\"N^B_K:\",ans1[0],\"\\nN^B_K':\",ans1[1], \"\\nN^A_K:\",ans1[2],\"\\nN^A_K':\",ans1[3])\n",
    "    #     DoVP_of_B = (ans1[0]-ans1[1])/(ans1[0]+ans1[1]) # print(\"B exciton DoVP = \",BDoVP)\n",
    "    #     DoVP_of_A = (ans1[2]-ans1[3])/(ans1[2]+ans1[3]) # print(\"A exciton DoVP = \",ADoVP)\n",
    "        \n",
    "    #     globals()['BDoVP'] += [DoVP_of_B]\n",
    "    #     globals()['ADoVP'] += [DoVP_of_A]\n",
    "\n",
    "    # y_A_r = np.linspace(0.1, 10, 30)\n",
    "    # ax.plot( y_A_r , globals()['BDoVP'], 'kx', markersize=12, zorder=2)\n",
    "    ax.plot( np.linspace(0.1, 10, 10000) , B_exciton_function(y_B_ex, y_B_De , y_B_r)*(1+0*np.linspace(0.1, 10, 10000)), linestyle='solid', color='blue' ,linewidth=2.5, zorder=2)\n",
    "    \n",
    "    # ax.plot( y_A_r, globals()['ADoVP'], 'kx', markersize=12, zorder=2)\n",
    "    ax.plot( np.linspace(0.1, 10, 10000) , A_exciton_function(y_B_ex, y_B_De, y_B_r, y_A_ex, np.linspace(0.1, 10, 10000)), linestyle='dashed', color='red' ,linewidth=2.5, zorder=2)\n",
    "    \n",
    "    # ax.set_title('$𝛾_{𝐵,𝐾𝐾′}^{𝐷𝑒𝑥𝑡𝑒𝑟}=5 𝛾_{𝐵,𝑟}^𝑋$', fontsize=30)\n",
    "    ax.grid()\n",
    "    # ax.set_ylabel(\"$𝜂^𝐵$\", fontsize=size-3, rotation=90)\n",
    "    # ax.set_ylabel(\"$𝜂^𝐴$\", fontsize=size-3, rotation=90)\n",
    "    # ax.set_yticks(np.arange(0, 1.01, 1./5))\n",
    "    # ax.set_yticks(np.arange(0, 1.01, 1./10), minor=True)\n",
    "    # ax.set_ylim(0, 1)\n",
    "    # ax.set_xticks(np.arange(0, 10.01, 1))\n",
    "    # ax.set_xlim(0, 10)\n",
    "    # ax.set_yticks(np.arange(-1, 0.01, 1./5))\n",
    "    # ax.set_yticks(np.arange(-1, 0.01, 1./10), minor=True)\n",
    "    # ax.set_ylim(-1, 0)\n",
    "    # ax.set_xticks(np.arange(0, 10.01, 1))\n",
    "    # ax.set_xlim(0, 10)\n",
    "    # ax.set_ylabel(\"DoVP\", fontsize=22, rotation=90)\n",
    "    # ax.set_yticks(np.arange(-1, 1.01, 2./5))\n",
    "    ax.set_yticks(np.arange(-1, 1.01, 2./5), [' ', ' ', ' ', ' ', ' ', ' '])\n",
    "    ax.set_yticks(np.arange(-1, 1.01, 2./10), minor=True)\n",
    "    ax.set_ylim(-1, 1)\n",
    "    ax.set_xticks(np.append([0.1], np.linspace(1, 10, 10)), [ '0.1',  '1' ,  '2' ,  '3' ,  '4' ,  '5' ,  '6' ,  '7' ,  '8' ,  '9' , '10' ])\n",
    "    ax.set_xlim(0.1, 10)\n",
    "    ax.set_xlabel('$𝛾_{𝐴,𝑟}^𝑋/𝛾_{𝐵,𝑟}^𝑋$', fontsize=25)\n",
    "    ax.tick_params(axis='both', which='major', labelsize=20)\n",
    "    # ax.legend(['numerical', 'analytic'], fontsize=16, loc='lower left')\n",
    "    ax.legend([\"$𝜂^𝐵$\", \"$𝜂^𝐴$\"], fontsize=20, loc='center right')\n",
    "    plt.tight_layout(pad=3.1)\n",
    "    plt.show() \n",
    "\n",
    "\n",
    "out = widgets.interactive_output(need, {'y_B_exmulti':y_B_exmulti, 'y_B_Demulti':y_B_Demulti, 'y_A_exmulti':y_A_exmulti, 'y_A_rmulti':y_A_rmulti})\n",
    "ui = widgets.VBox([widgets.Label('coefficient:'), widgets.VBox([y_B_exmulti, y_B_Demulti, y_A_exmulti, y_A_rmulti]) ])\n",
    "display(ui , out )"
   ]
  },
  {
   "cell_type": "code",
   "execution_count": 39,
   "id": "7102d26f-90db-4324-9087-4f5b494999f2",
   "metadata": {},
   "outputs": [
    {
     "data": {
      "text/plain": [
       "array([ 0.1,  1. ,  2. ,  3. ,  4. ,  5. ,  6. ,  7. ,  8. ,  9. , 10. ])"
      ]
     },
     "execution_count": 39,
     "metadata": {},
     "output_type": "execute_result"
    }
   ],
   "source": [
    "np.append([0.1], np.linspace(1, 10, 10))"
   ]
  },
  {
   "cell_type": "code",
   "execution_count": null,
   "id": "136a2ff0-32ef-4da6-b8cc-917e9a9d98a7",
   "metadata": {},
   "outputs": [],
   "source": []
  }
 ],
 "metadata": {
  "kernelspec": {
   "display_name": "Python 3 (ipykernel)",
   "language": "python",
   "name": "python3"
  },
  "language_info": {
   "codemirror_mode": {
    "name": "ipython",
    "version": 3
   },
   "file_extension": ".py",
   "mimetype": "text/x-python",
   "name": "python",
   "nbconvert_exporter": "python",
   "pygments_lexer": "ipython3",
   "version": "3.11.10"
  }
 },
 "nbformat": 4,
 "nbformat_minor": 5
}
